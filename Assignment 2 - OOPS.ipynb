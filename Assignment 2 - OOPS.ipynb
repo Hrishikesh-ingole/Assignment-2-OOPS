{
 "cells": [
  {
   "cell_type": "raw",
   "id": "13e02c94-1257-44d6-9183-78035133cd68",
   "metadata": {},
   "source": [
    "Constructor : "
   ]
  },
  {
   "cell_type": "raw",
   "id": "7047e345-7584-4152-9663-07f0b8fd7a0a",
   "metadata": {},
   "source": [
    "# 1. What is a constructor in Python? Explain its purpose and usage.\n",
    "\n",
    "constructor is a special method that is automatically called when an object is created from a class. It is used to initialize the attributes of the object and perform any set of operations that may be necessary. The constructor method in Python is named __init__.\n",
    "The primary purpose of a constructor is to initialize the attributes of an object with values provided as arguments or with default values if no arguments are provided.\n"
   ]
  },
  {
   "cell_type": "raw",
   "id": "2b7b615c-af1a-4054-9b8d-bac47892f451",
   "metadata": {},
   "source": [
    "# 2. Differentiate between a parameterless constructor and a parameterized constructor in Python.\n",
    "\n",
    "Parameterless constructor - A parameterless constructor is a constructor that takes only the self parameter and has no additional parameters.It is used to perform any default initialization or setup operations without requiring any external input.\n",
    "\n",
    "Parameterized constructor - A parameterized constructor is a constructor that takes additional parameters along with the self parameter to initialize the attributes of the object with specific values. It is used to initialize the object's attributes with values provided during the object creation."
   ]
  },
  {
   "cell_type": "raw",
   "id": "1286b5f6-44b4-4126-bca9-ec77845bf543",
   "metadata": {},
   "source": [
    "# 3. How do you define a constructor in a Python class? Provide an example.\n",
    "\n",
    "We define constructor class under it with __init__ method and self as a first mandetory attribute, followed by required parameter.\n",
    "\n",
    "class Con_class:\n",
    "    def __init__(self, value1, value2):\n",
    "        self.value1 = value1\n",
    "        self.value2 = value2\n",
    "obj = Con_class(value1, value2)\n"
   ]
  },
  {
   "cell_type": "raw",
   "id": "21f66f15-6f1c-49a3-a25c-e6d33362f585",
   "metadata": {},
   "source": [
    "# 4. Explain the `__init__` method in Python and its role in constructors.\n",
    "\n",
    "The __init__ method is a special method that plays a crucial role in constructors. The term \"init\" is short for \"initialize,\" and the __init__ method is automatically called when an object is created from a class. Its primary purpose is to initialize the attributes of the object and perform any necessary setup operations. The __init__ method is considered a constructor because it is responsible for the initialization of the object's state."
   ]
  },
  {
   "cell_type": "raw",
   "id": "c92502bc-7695-4e73-ae4f-1f35d2748ad8",
   "metadata": {},
   "source": [
    "# 5. In a class named `Person`, create a constructor that initializes the `name` and `age` attributes. Provide an\n",
    "example of creating an object of this class.\n",
    "\n",
    "class Person:\n",
    "    def __init__(self,name,age):\n",
    "        self.name = name\n",
    "        self.age = age\n",
    "    \n",
    "per_1 = Person('pwskills',24)"
   ]
  },
  {
   "cell_type": "code",
   "execution_count": 3,
   "id": "da1f4d25-ecf2-4268-a462-33fbf028df7e",
   "metadata": {},
   "outputs": [],
   "source": [
    "\n",
    "class Person:\n",
    "    def __init__(self,name,age):\n",
    "        self.name = name\n",
    "        self.age = age\n",
    "    \n",
    "per_1 = Person('pwskills',24)"
   ]
  },
  {
   "cell_type": "code",
   "execution_count": 8,
   "id": "4a88220f-0fc5-4dd7-afea-0a04b020606d",
   "metadata": {},
   "outputs": [
    {
     "data": {
      "text/plain": [
       "'pwskills'"
      ]
     },
     "execution_count": 8,
     "metadata": {},
     "output_type": "execute_result"
    }
   ],
   "source": [
    "per_1.name"
   ]
  },
  {
   "cell_type": "code",
   "execution_count": 9,
   "id": "77c6b476-028f-4a7c-ad47-ade679a142b9",
   "metadata": {},
   "outputs": [
    {
     "data": {
      "text/plain": [
       "24"
      ]
     },
     "execution_count": 9,
     "metadata": {},
     "output_type": "execute_result"
    }
   ],
   "source": [
    "per_1.age"
   ]
  },
  {
   "cell_type": "raw",
   "id": "e85f2568-424c-4e9d-9a5e-6a1ced990eb4",
   "metadata": {},
   "source": [
    "# 6. How can you call a constructor explicitly in Python? Give an example.\n",
    "\n",
    "By calling the __init__ method after object creation, we can caall the constructor explicitly."
   ]
  },
  {
   "cell_type": "code",
   "execution_count": 1,
   "id": "95526c3d-60bd-462f-b026-ec9f0b2db32a",
   "metadata": {},
   "outputs": [],
   "source": [
    "\n",
    "class Person:\n",
    "    def __init__(self,name,age):\n",
    "        self.name = name\n",
    "        self.age = age\n",
    "    \n",
    "per_1 = Person('pwskills',24)\n",
    "per_1.__init__('rishi',27)"
   ]
  },
  {
   "cell_type": "code",
   "execution_count": 2,
   "id": "a4104915-2138-4bf7-b7d3-71ab321741de",
   "metadata": {},
   "outputs": [
    {
     "data": {
      "text/plain": [
       "'rishi'"
      ]
     },
     "execution_count": 2,
     "metadata": {},
     "output_type": "execute_result"
    }
   ],
   "source": [
    "per_1.name"
   ]
  },
  {
   "cell_type": "code",
   "execution_count": 3,
   "id": "21e53bfa-9cd6-4c49-a6ac-d65ef0aa576d",
   "metadata": {},
   "outputs": [
    {
     "data": {
      "text/plain": [
       "27"
      ]
     },
     "execution_count": 3,
     "metadata": {},
     "output_type": "execute_result"
    }
   ],
   "source": [
    "per_1.age"
   ]
  },
  {
   "cell_type": "raw",
   "id": "946f3f51-956e-4adb-bcb6-c8b58eb9a4ee",
   "metadata": {},
   "source": [
    "# 7. What is the significance of the `self` parameter in Python constructors? Explain with an example.\n",
    "\n",
    "The self parameter in constructors and methods is a convention used to represent the instance of the class. It allows you to access and modify the attributes and methods of the object within the class. The use of self makes it clear that you are working with the instance of the class, and it helps in avoiding naming conflicts between instance variables and local variables.\n",
    "\n",
    "class Person:\n",
    "    def __init__(self,name,age):\n",
    "        self.name = name\n",
    "        self.age = age\n",
    "    \n",
    "per_1 = Person('pwskills',24)"
   ]
  },
  {
   "cell_type": "raw",
   "id": "515d6e69-02dc-403d-9bdf-e56d3763da90",
   "metadata": {},
   "source": [
    "# 8. Discuss the concept of default constructors in Python. When are they used?\n",
    "\n",
    "Default constructor is the used when no attribute has to be passed while initialization. If a class doesn't have a user-defined constructor, Python automatically provides a default constructor for that class.\n"
   ]
  },
  {
   "cell_type": "code",
   "execution_count": 14,
   "id": "89d388dc-0077-4a70-96ff-d24718890c9a",
   "metadata": {},
   "outputs": [],
   "source": [
    "# 9. Create a Python class called `Rectangle` with a constructor that initializes the `width` and `height` attributes. Provide a method to calculate the area of the rectangle.\n",
    "\n",
    "class Rectangle:\n",
    "    def __init__(self, width, height):\n",
    "        self.width = width\n",
    "        self.height = height\n",
    "    def area(self):\n",
    "        area_value = self.width*self.height\n",
    "        print('Area of rectange is ',area_value)"
   ]
  },
  {
   "cell_type": "code",
   "execution_count": 15,
   "id": "984442e0-845b-4d5d-baf1-417f866bc27b",
   "metadata": {},
   "outputs": [],
   "source": [
    "rect_1 = Rectangle(10,30)"
   ]
  },
  {
   "cell_type": "code",
   "execution_count": 16,
   "id": "12f56b84-a723-430e-897f-e47aa3179135",
   "metadata": {},
   "outputs": [
    {
     "name": "stdout",
     "output_type": "stream",
     "text": [
      "Area of rectange is  300\n"
     ]
    }
   ],
   "source": [
    "rect_1.area()"
   ]
  },
  {
   "cell_type": "raw",
   "id": "b82c5d8e-d672-40d1-95d3-8236c1766d21",
   "metadata": {},
   "source": [
    "# 10. How can you have multiple constructors in a Python class? Explain with an example.\n",
    "\n",
    "define a class method using the @classmethod decorator. Class methods take the class itself as the first argument (usually named cls) instead of an instance of the class. You can use class methods to provide alternative ways to instantiate an object.\n"
   ]
  },
  {
   "cell_type": "code",
   "execution_count": 2,
   "id": "4834efe2-24a7-4e52-b391-6ff984f253df",
   "metadata": {},
   "outputs": [
    {
     "name": "stdout",
     "output_type": "stream",
     "text": [
      "Hello World\n",
      "Python Programming\n"
     ]
    }
   ],
   "source": [
    "class MyClass:\n",
    "    def __init__(self, value1, value2):\n",
    "        self.value1 = value1\n",
    "        self.value2 = value2\n",
    "\n",
    "    @classmethod\n",
    "    def from_string(cls, input_string):\n",
    "        # Parse the input string and extract values\n",
    "        values = input_string.split(',')\n",
    "        # Create and return an instance of the class\n",
    "        return cls(values[0], values[1])\n",
    "\n",
    "obj1 = MyClass(\"Hello\", \"World\")\n",
    "\n",
    "obj2 = MyClass.from_string(\"Python,Programming\")\n",
    "\n",
    "print(obj1.value1, obj1.value2)  \n",
    "print(obj2.value1, obj2.value2)"
   ]
  },
  {
   "cell_type": "raw",
   "id": "daf70d95-2cdc-43ec-ac93-f65f60e2bf8b",
   "metadata": {},
   "source": [
    "# 11. What is method overloading, and how is it related to constructors in Python?\n",
    "\n",
    "Multiple methods within a class have the same name but differ in the number or types of their parameters. It allows a class to provide different implementations for a method depending on the arguments passed to it. Method overloading is a way to create multiple methods with the same name but with different parameter lists.\n",
    "In the context of constructors, method overloading can be related to providing multiple ways to instantiate objects with different sets of parameters."
   ]
  },
  {
   "cell_type": "raw",
   "id": "88b3b24d-6f53-463e-85f8-c31fc85e0f3a",
   "metadata": {},
   "source": [
    "# 12. Explain the use of the `super()` function in Python constructors. Provide an example.\n",
    "\n",
    "The super() function is used to call a method from a parent or superclass. It is commonly used in the context of constructors to invoke the constructor of the parent class, allowing you to initialize the attributes or perform actions defined in the parent class before adding specific functionality in the child class."
   ]
  },
  {
   "cell_type": "code",
   "execution_count": 3,
   "id": "56d06513-c433-4c87-adbb-04b8aa6e3367",
   "metadata": {},
   "outputs": [
    {
     "name": "stdout",
     "output_type": "stream",
     "text": [
      "John\n",
      "25\n"
     ]
    }
   ],
   "source": [
    "class ParentClass:\n",
    "    def __init__(self, name):\n",
    "        self.name = name\n",
    "\n",
    "class ChildClass(ParentClass):\n",
    "    def __init__(self, name, age):\n",
    "        super().__init__(name)\n",
    "        self.age = age\n",
    "\n",
    "child_obj = ChildClass(\"John\", 25)\n",
    "\n",
    "print(child_obj.name)  \n",
    "print(child_obj.age)   \n"
   ]
  },
  {
   "cell_type": "code",
   "execution_count": 4,
   "id": "92a625f7-e339-40ac-93c6-baca5d9db65e",
   "metadata": {},
   "outputs": [
    {
     "name": "stdout",
     "output_type": "stream",
     "text": [
      "Title: Book_1\n",
      "Author: author_1\n",
      "Published Year: 1951\n"
     ]
    }
   ],
   "source": [
    "#  13. Create a class called `Book` with a constructor that initializes the `title`, `author`, and `published_year` attributes. Provide a method to display book details.\n",
    "\n",
    "class Book:\n",
    "    def __init__(self, title, author, published_year):\n",
    "        self.title = title\n",
    "        self.author = author\n",
    "        self.published_year = published_year\n",
    "\n",
    "    def display_details(self):\n",
    "        print(f\"Title: {self.title}\")\n",
    "        print(f\"Author: {self.author}\")\n",
    "        print(f\"Published Year: {self.published_year}\")\n",
    "\n",
    "book1 = Book(\"Book_1\", \"author_1\", 1951)\n",
    "\n",
    "# Display details of the book\n",
    "book1.display_details()\n"
   ]
  },
  {
   "cell_type": "raw",
   "id": "101320af-2f16-4eed-a9c9-9624052890ce",
   "metadata": {},
   "source": [
    "#14. Discuss the differences between constructors and regular methods in Python classes.\n",
    "\n",
    "Constructors are automatically called when an object is instantiated from a class while Regular methods perform specific actions or operations on the instance of the class. They can be called on objects after the objects have been created. The constructor in Python is a special method named __init__. It is called automatically when an object is created. While Regular methods have arbitrary names and are defined by the user based on the functionality they want to implement."
   ]
  },
  {
   "cell_type": "raw",
   "id": "87089431-e094-4e9d-945d-c68da43915dc",
   "metadata": {},
   "source": [
    "15. Explain the role of the `self` parameter in instance variable initialization within a constructor.\n",
    "\n",
    "The self parameter is a convention used to represent the instance of the class, and it is the first parameter of every instance method, including the constructor (__init__).Within the constructor, you use self to assign values to instance variables. This is necessary to differentiate between instance variables and local variables within the method."
   ]
  },
  {
   "cell_type": "code",
   "execution_count": 1,
   "id": "b3645c8b-2de7-479d-9dbe-0e631938903d",
   "metadata": {},
   "outputs": [
    {
     "name": "stdout",
     "output_type": "stream",
     "text": [
      "['Math', 'English', 'Science']\n"
     ]
    }
   ],
   "source": [
    "#17. Create a Python class called `Student` with a constructor that takes a list of subjects as a parameter an initializes the `subjects` attribute.\n",
    "\n",
    "class Student:\n",
    "    def __init__(self, subjects):\n",
    "        self.subjects = subjects\n",
    "\n",
    "student1 = Student([\"Math\", \"English\", \"Science\"])\n",
    "print(student1.subjects) "
   ]
  },
  {
   "cell_type": "raw",
   "id": "bf496755-d32b-4bc9-96ce-9806007570c5",
   "metadata": {},
   "source": [
    "#18. What is the purpose of the `__del__` method in Python classes, and how does it relate to constructors?\n",
    "\n",
    "__del__() method is used as distructor, it is also called as soon as the object ois created and called While once the distructor is executed when we have to distroy the object or when we have to close the program.distructor is opposit of constructor both are called as soon as object is called."
   ]
  },
  {
   "cell_type": "code",
   "execution_count": 2,
   "id": "b39f72bc-ecd6-46e9-b30f-8fb37683fe11",
   "metadata": {},
   "outputs": [],
   "source": [
    "#20. Create a Python class called `Car` with a default constructor that initializes the `make` and `model` attributes. Provide a method to display car information.\n",
    "\n",
    "class Car:\n",
    "    def __init__(self, make, model):\n",
    "        self.make = make\n",
    "        self.model = model\n",
    "        \n",
    "    def display_car_info(self):\n",
    "        print('make = ',self.make)\n",
    "        print('model = ', self.model)\n",
    "car_1 = Car('make_1','model_1')"
   ]
  },
  {
   "cell_type": "code",
   "execution_count": 4,
   "id": "6ce87b0d-1137-47cb-82b8-fb6add1e8859",
   "metadata": {},
   "outputs": [
    {
     "name": "stdout",
     "output_type": "stream",
     "text": [
      "make =  make_1\n",
      "model =  model_1\n"
     ]
    }
   ],
   "source": [
    "car_1.display_car_info()"
   ]
  },
  {
   "cell_type": "code",
   "execution_count": null,
   "id": "e5e829b7-5a03-43bf-b0b7-93e7f8f89b46",
   "metadata": {},
   "outputs": [],
   "source": []
  },
  {
   "cell_type": "raw",
   "id": "e5194314-cc23-4af5-acd7-5c265807195b",
   "metadata": {},
   "source": [
    "Inheritance:"
   ]
  },
  {
   "cell_type": "raw",
   "id": "0d76ae3a-a7c1-4b53-bd0f-40aa31d2031c",
   "metadata": {},
   "source": [
    "#1. What is inheritance in Python? Explain its significance in object-oriented programming.\n",
    "\n",
    "Inheritance is proccess of inheriting properties of parent class to child class. We have 5 types of inheritance.\n",
    "single, multiple, multilevel, hierarchical, hybrid inheritance. its significance in OPPS is to inherite the properties of super class to child class."
   ]
  },
  {
   "cell_type": "raw",
   "id": "0c70cde8-8db5-4110-b6e0-16f2b68816ac",
   "metadata": {},
   "source": [
    "2. Differentiate between single inheritance and multiple inheritance in Python. Provide examples for each.\n",
    "\n",
    "#Single Inheritance:\n",
    "In single inheritance, a class can inherit from only one base class.\n",
    "\n",
    "\n",
    "class Animal:\n",
    "    def speak(self):\n",
    "        print(\"Animal speaks\")\n",
    "\n",
    "class Dog(Animal):\n",
    "    def bark(self):\n",
    "        print(\"Dog barks\")\n",
    "\n",
    "#Multiple Inheritance:\n",
    "In multiple inheritance, a class can inherit from more than one base class.\n",
    "\n",
    "class A:\n",
    "    def method_A(self):\n",
    "        print(\"Method A\")\n",
    "\n",
    "class B:\n",
    "    def method_B(self):\n",
    "        print(\"Method B\")\n",
    "\n",
    "class C(A, B):\n",
    "    def method_C(self):\n",
    "        print(\"Method C\")\n"
   ]
  },
  {
   "cell_type": "code",
   "execution_count": 48,
   "id": "9c287676-7eb8-4b3e-bd5a-493917bf1e1f",
   "metadata": {},
   "outputs": [
    {
     "name": "stdout",
     "output_type": "stream",
     "text": [
      "Color: Blue\n",
      "Speed: 60 km/h\n",
      "Brand: Toyota\n"
     ]
    }
   ],
   "source": [
    "'''3. Create a Python class called `Vehicle` with attributes `color` and `speed`. Then, create a child class called\n",
    "`Car` that inherits from `Vehicle` and adds a `brand` attribute. Provide an example of creating a `Car` object.'''\n",
    "\n",
    "class Vehicle:\n",
    "    def __init__(self, color, speed):\n",
    "        self.color = color\n",
    "        self.speed = speed\n",
    "\n",
    "class Car(Vehicle):\n",
    "    def __init__(self, color, speed, brand):\n",
    "        super().__init__(color, speed)\n",
    "        self.brand = brand\n",
    "\n",
    "my_car = Car(color=\"Blue\", speed=60, brand=\"Toyota\")\n",
    "\n",
    "print(f\"Color: {my_car.color}\")\n",
    "print(f\"Speed: {my_car.speed} km/h\")\n",
    "print(f\"Brand: {my_car.brand}\")\n",
    "\n"
   ]
  },
  {
   "cell_type": "raw",
   "id": "a69d9ac4-b75a-4965-83db-d7cba88a64e0",
   "metadata": {},
   "source": [
    "# 4. Explain the concept of method overriding in inheritance. Provide a practical example.\n",
    "\n",
    "Method overriding is a concept in object-oriented programming (OOP) that allows a subclass to provide a specific implementation of a method that is already defined in its superclass. When a subclass defines a method with the same name, return type, and parameters as a method in its superclass, it is said to override that method. This allows the subclass to provide its own implementation while maintaining the same method signature as the superclass.\n"
   ]
  },
  {
   "cell_type": "code",
   "execution_count": 1,
   "id": "4bf4269b-5492-4e40-9b8d-5e4e5668ea78",
   "metadata": {},
   "outputs": [
    {
     "name": "stdout",
     "output_type": "stream",
     "text": [
      "Drawing a circle\n",
      "Drawing a square\n"
     ]
    }
   ],
   "source": [
    "class Shape:\n",
    "    def draw(self):\n",
    "        print(\"Drawing a generic shape\")\n",
    "\n",
    "class Circle(Shape):\n",
    "    def draw(self):\n",
    "        print(\"Drawing a circle\")\n",
    "\n",
    "class Square(Shape):\n",
    "    def draw(self):\n",
    "        print(\"Drawing a square\")\n",
    "\n",
    "circle = Circle()\n",
    "square = Square()\n",
    "\n",
    "circle.draw()  \n",
    "square.draw()  "
   ]
  },
  {
   "cell_type": "raw",
   "id": "7f975e53-71af-4748-9048-fc58f19e1f2d",
   "metadata": {},
   "source": [
    "# 5. How can you access the methods and attributes of a parent class from a child class in Python? Give an example.\n",
    "\n",
    "We can access the methods and attributes of a parent class from a child class using the super() function. The super() function returns a temporary object of the superclass, allowing us to call its methods and access its attributes.\n"
   ]
  },
  {
   "cell_type": "code",
   "execution_count": 3,
   "id": "6fa21a31-a5ed-4430-9ec4-a865cf0e06d6",
   "metadata": {},
   "outputs": [
    {
     "name": "stdout",
     "output_type": "stream",
     "text": [
      "Hello, Alice!\n",
      "My name is Alice and I'm 25 years old.\n"
     ]
    }
   ],
   "source": [
    "class Parent:\n",
    "    def __init__(self, name):\n",
    "        self.name = name\n",
    "\n",
    "    def greet(self):\n",
    "        print(f\"Hello, {self.name}!\")\n",
    "\n",
    "class Child(Parent):\n",
    "    def __init__(self, name, age):\n",
    "        # Call the constructor of the parent class using super()\n",
    "        super().__init__(name)\n",
    "        self.age = age\n",
    "\n",
    "    def greet_and_introduce(self):\n",
    "        super().greet()\n",
    "        print(f\"My name is {self.name} and I'm {self.age} years old.\")\n",
    "\n",
    "\n",
    "child_obj = Child(\"Alice\", 25)\n",
    "child_obj.greet_and_introduce()"
   ]
  },
  {
   "cell_type": "raw",
   "id": "b2d9bd3e-1eeb-4747-8b85-acf8e6583054",
   "metadata": {},
   "source": [
    "6. Discuss the use of the `super()` function in Python inheritance. When and why is it used? Provide an example.\n",
    "\n",
    "We can access the methods and attributes of a parent class from a child class using the super() function. The super() function returns a temporary object of the superclass, allowing us to call its methods and access its attributes.\n"
   ]
  },
  {
   "cell_type": "code",
   "execution_count": 4,
   "id": "2d9cb2a2-8c9b-4627-87a4-2bb5925bb4b6",
   "metadata": {},
   "outputs": [
    {
     "name": "stdout",
     "output_type": "stream",
     "text": [
      "Hello, Alice!\n",
      "My name is Alice and I'm 25 years old.\n"
     ]
    }
   ],
   "source": [
    "class Parent:\n",
    "    def __init__(self, name):\n",
    "        self.name = name\n",
    "\n",
    "    def greet(self):\n",
    "        print(f\"Hello, {self.name}!\")\n",
    "\n",
    "class Child(Parent):\n",
    "    def __init__(self, name, age):\n",
    "        # Call the constructor of the parent class using super()\n",
    "        super().__init__(name)\n",
    "        self.age = age\n",
    "\n",
    "    def greet_and_introduce(self):\n",
    "        super().greet()\n",
    "        print(f\"My name is {self.name} and I'm {self.age} years old.\")\n",
    "\n",
    "\n",
    "child_obj = Child(\"Alice\", 25)\n",
    "child_obj.greet_and_introduce()"
   ]
  },
  {
   "cell_type": "code",
   "execution_count": 2,
   "id": "bd460052-5145-4f6b-b8fe-314727b1bedb",
   "metadata": {},
   "outputs": [],
   "source": [
    "#7. Create a Python class called `Animal` with a method `speak()`. Then, create child classes `Dog` and `Cat` that inherit from `Animal` and override the `speak()` method. Provide an example of using these classes.\n",
    "\n",
    "class Animal:\n",
    "    def speak(self):\n",
    "        pass\n",
    "\n",
    "class Dog(Animal):\n",
    "    def speak(self):\n",
    "        return \"Woof!\"\n",
    "\n",
    "class Cat(Animal):\n",
    "    def speak(self):\n",
    "        return \"Meow!\"\n",
    "        "
   ]
  },
  {
   "cell_type": "code",
   "execution_count": 6,
   "id": "d613f83b-b707-423a-8829-012721002b93",
   "metadata": {},
   "outputs": [],
   "source": [
    "dog = Dog()"
   ]
  },
  {
   "cell_type": "code",
   "execution_count": 9,
   "id": "4c927be2-6825-4498-ada2-4e8a42571d3c",
   "metadata": {},
   "outputs": [
    {
     "data": {
      "text/plain": [
       "'Woof!'"
      ]
     },
     "execution_count": 10,
     "metadata": {},
     "output_type": "execute_result"
    }
   ],
   "source": [
    "dog.speak"
   ]
  },
  {
   "cell_type": "raw",
   "id": "e99edb6b-669b-4ff6-918f-e61a9bf9e2d0",
   "metadata": {},
   "source": [
    "#8. Explain the role of the `isinstance()` function in Python and how it relates to inheritance.\n",
    "\n",
    "The isinstance() function in Python is used to check if an object belongs to a specific class or its subclass. It returns True if the object is an instance of the specified class or any of its subclasses; otherwise, it returns False.\n",
    "\n",
    "Example as below."
   ]
  },
  {
   "cell_type": "code",
   "execution_count": 7,
   "id": "776a77cb-1f7f-41ec-aa16-03caf28200cf",
   "metadata": {},
   "outputs": [
    {
     "name": "stdout",
     "output_type": "stream",
     "text": [
      "True\n",
      "False\n"
     ]
    }
   ],
   "source": [
    "class Animal:\n",
    "    def Sound(self):\n",
    "        print('Depends on animal')\n",
    "class Dog(Animal):\n",
    "    def Sound(self):\n",
    "        print('Barks')\n",
    "class Cat():\n",
    "    def Sound(self):\n",
    "        print('Meow..')\n",
    "dog  = Dog()\n",
    "cat = Cat()\n",
    "print(isinstance(dog, Animal)) # returned true as dog object of Dog class inherits properties of Animal class.\n",
    "print(isinstance(cat, Animal)) # returned false as cat object of Cat class donot inherits properties of Animal class."
   ]
  },
  {
   "cell_type": "raw",
   "id": "e7635cd3-0fb3-4c03-badf-83dd66d4804e",
   "metadata": {},
   "source": [
    "#9. What is the purpose of the `issubclass()` function in Python? Provide an example.\n",
    "\n",
    "The issubclass() function in Python is used to check if a class is a subclass of another class. It returns True if the first argument is indeed a subclass of the second argument; otherwise, it returns False.\n",
    "\n",
    "Example as below."
   ]
  },
  {
   "cell_type": "code",
   "execution_count": 9,
   "id": "979599d6-93ee-4a3b-8bae-658a502a4d48",
   "metadata": {},
   "outputs": [
    {
     "name": "stdout",
     "output_type": "stream",
     "text": [
      "True\n",
      "False\n"
     ]
    }
   ],
   "source": [
    "class Animal:\n",
    "    def Sound(self):\n",
    "        print('Depends on animal')\n",
    "class Dog(Animal):\n",
    "    def Sound(self):\n",
    "        print('Barks')\n",
    "class Cat():\n",
    "    def Sound(self):\n",
    "        print('Meow..')\n",
    "dog  = Dog()\n",
    "cat = Cat()\n",
    "print(issubclass(Dog, Animal)) # returned true as Dog class is subclass of Animal class.\n",
    "print(issubclass(Cat, Animal)) # returned false as Cat class is not subclass of Animal class."
   ]
  },
  {
   "cell_type": "code",
   "execution_count": 46,
   "id": "b38326f9-f72f-48ee-8e6f-fa393c27c207",
   "metadata": {},
   "outputs": [
    {
     "name": "stdout",
     "output_type": "stream",
     "text": [
      "Parent's constructor\n",
      "Child's constructor\n"
     ]
    }
   ],
   "source": [
    "#10. Discuss the concept of constructor inheritance in Python. How are constructors inherited in child classes?\n",
    "\n",
    "''' Constructor inheritance is inheriting the constructor method in child or subclaass and this can be achived using super() method.'''\n",
    "\n",
    "class Parent:\n",
    "    def __init__(self):\n",
    "        print(\"Parent's constructor\")\n",
    "\n",
    "class Child(Parent):\n",
    "    def __init__(self):\n",
    "        super().__init__()  # Call the constructor of the superclass\n",
    "        print(\"Child's constructor\")\n",
    "\n",
    "child = Child()  \n"
   ]
  },
  {
   "cell_type": "markdown",
   "id": "e6845def-a88c-4fb3-8cef-ee6ee2f94aed",
   "metadata": {},
   "source": [
    "#11. Create a Python class called `Shape` with a method `area()` that calculates the area of a shape. Then, create child classes `Circle` and `Rectangle` that inherit from `Shape` and implement the `area()` method accordingly. Provide an example.\n",
    "\n"
   ]
  },
  {
   "cell_type": "code",
   "execution_count": 58,
   "id": "33986eab-19ca-4d8f-94c0-c7e7e8b4b9e2",
   "metadata": {},
   "outputs": [
    {
     "name": "stdout",
     "output_type": "stream",
     "text": [
      "Area of circle =  50.285714285714285\n",
      "Area or rectangle =  200\n"
     ]
    }
   ],
   "source": [
    "class Shape:\n",
    "    def area(self):\n",
    "        pass\n",
    "class Circle(Shape):\n",
    "    def __init__(self, radius):\n",
    "        self.radius = radius\n",
    "    def area(self):\n",
    "        print('Area of circle = ', (22/7)*(self.radius **2))\n",
    "\n",
    "class Rectangle(Shape):\n",
    "    def __init__(self, length, breadth):\n",
    "        self.length = length\n",
    "        self.breadth = breadth\n",
    "    def area(self):\n",
    "        print('Area or rectangle = ', self.length*self.breadth)\n",
    "\n",
    "circle = Circle(4)\n",
    "rectangle = Rectangle(10,20)\n",
    "circle.area()\n",
    "rectangle.area()"
   ]
  },
  {
   "cell_type": "raw",
   "id": "322380bf-cb54-4730-b752-7840f354e80b",
   "metadata": {},
   "source": [
    "#12. Explain the use of abstract base classes (ABCs) in Python and how they relate to inheritance. Provide anexample using the `abc` module.\n",
    "Abstract Base Classes (ABCs) in Python provide a way to define interfaces for subclasses. They allow you to define a blueprint for a class without actually implementing all of its methods. Instead, ABCs define abstract methods, which must be implemented by any concrete subclass. ABCs serve as a form of contract, ensuring that any subclass that claims to implement the interface actually provides the required functionality."
   ]
  },
  {
   "cell_type": "code",
   "execution_count": 71,
   "id": "fcfaf301-5c43-4d95-95bd-e46b97a27f67",
   "metadata": {},
   "outputs": [
    {
     "name": "stdout",
     "output_type": "stream",
     "text": [
      "Area of circle =  50.285714285714285\n",
      "Area or rectangle =  200\n"
     ]
    }
   ],
   "source": [
    "from abc import ABC, abstractmethod\n",
    "\n",
    "class Shape(ABC):\n",
    "    @abstractmethod\n",
    "    def area(self):\n",
    "        pass\n",
    "class Circle(Shape):\n",
    "    def __init__(self, radius):\n",
    "        self.radius = radius\n",
    "    def area(self):\n",
    "        print('Area of circle = ', (22/7)*(self.radius **2))\n",
    "\n",
    "class Rectangle(Shape):\n",
    "    def __init__(self, length, breadth):\n",
    "        self.length = length\n",
    "        self.breadth = breadth\n",
    "    def area(self):\n",
    "        print('Area or rectangle = ', self.length*self.breadth)\n",
    "\n",
    "circle = Circle(4)\n",
    "rectangle = Rectangle(10,20)\n",
    "circle.area()\n",
    "rectangle.area()"
   ]
  },
  {
   "cell_type": "code",
   "execution_count": 86,
   "id": "99a75307-9168-4aef-8d5b-f52862c799ee",
   "metadata": {},
   "outputs": [
    {
     "data": {
      "text/plain": [
       "\"I'm private\""
      ]
     },
     "execution_count": 86,
     "metadata": {},
     "output_type": "execute_result"
    }
   ],
   "source": [
    "#13. How can you prevent a child class from modifying certain attributes or methods inherited from a parent class in Python?\n",
    "\n",
    "'''This can be achived by using @property decorator with private attribute'''\n",
    "class Parent:\n",
    "    def __init__(self):\n",
    "        self._private_attribute = \"I'm private\"\n",
    "    \n",
    "    @property\n",
    "    def private_attribute(self):\n",
    "        return self._private_attribute\n",
    "\n",
    "class Child(Parent):\n",
    "    def __init__(self):\n",
    "        super().__init__()\n",
    "        self._private_attribute = \"Modified\" \n",
    "\n",
    "\n",
    "child  = Child()\n",
    "child._private_attribute\n",
    "parent = Parent()\n",
    "parent.private_attribute\n"
   ]
  },
  {
   "cell_type": "code",
   "execution_count": 25,
   "id": "ac8e25a5-b510-4e2e-981f-73656cc92fbf",
   "metadata": {},
   "outputs": [
    {
     "name": "stdout",
     "output_type": "stream",
     "text": [
      "name_1\n",
      "name_2\n"
     ]
    }
   ],
   "source": [
    "#14. Create a Python class called `Employee` with attributes `name` and `salary`. Then, create a child class `Manager` that inherits from `Employee` and adds an attribute `department`. Provide an example.\n",
    "\n",
    "class Employee:\n",
    "    def __init__(self, name, salary):\n",
    "        self.name = name\n",
    "        self.salary = salary\n",
    "class Manager(Employee):\n",
    "    def __init__(self, name, salary, department):\n",
    "        self.department = department\n",
    "        super().__init__(name, salary)\n",
    "        \n",
    "        \n",
    "emp = Employee('name_1',100000)\n",
    "manager = Manager('name_2',200000,'HR')\n",
    "print(emp.name)\n",
    "print(manager.name)"
   ]
  },
  {
   "cell_type": "raw",
   "id": "673a5ff2-50c5-4bea-99d2-891e0e1eefd8",
   "metadata": {},
   "source": [
    "15. Discuss the concept of method overloading in Python inheritance. How does it differ from methodoverriding?\n",
    "\n",
    "-Method overloading in Python involves defining multiple methods with the same name but different parameter lists within the same class, achieved using default parameter values or variable-length argument lists.\n",
    "\n",
    "-Method overriding occurs when a subclass provides a specific implementation of a method that is already defined in its superclass. When the method is called on an instance of the subclass, the subclass's implementation is executed instead of the superclass's implementation.\n"
   ]
  },
  {
   "cell_type": "raw",
   "id": "ae57feea-c665-4776-bdca-45c00a386af6",
   "metadata": {},
   "source": [
    "16. Explain the purpose of the `__init__()` method in Python inheritance and how it is utilized in child classes.\n",
    "\n",
    "In Python, the __init__() method is a special method used for initializing objects of a class. It is called automatically when a new instance of the class is created. The purpose of the __init__() method in inheritance is to initialize the attributes of the parent class and potentially any attributes specific to the child class.\n",
    "\n",
    "When a child class inherits from a parent class, it can have its own __init__() method which can call the __init__() method of the parent class using super(). This allows the child class to inherit the behavior of the parent class' __init__() method and optionally extend or modify it as needed."
   ]
  },
  {
   "cell_type": "raw",
   "id": "f58558f1-f8d8-445d-a5a9-af01a7900661",
   "metadata": {},
   "source": [
    "#17. Create a Python class called `Bird` with a method `fly()`. Then, create child classes `Eagle` and `Sparrow` that inherit from `Bird` and implement the `fly()` method differently. Provide an example of using theseclasses."
   ]
  },
  {
   "cell_type": "code",
   "execution_count": 9,
   "id": "427f330a-c30e-4f4f-94ca-6df851c5dec3",
   "metadata": {},
   "outputs": [
    {
     "name": "stdout",
     "output_type": "stream",
     "text": [
      "Eagles fly high\n",
      "Sparrows fly low\n"
     ]
    }
   ],
   "source": [
    "class Bird:\n",
    "    def fly(self):\n",
    "        pass\n",
    "class Eagle(Bird):\n",
    "    def fly(self):\n",
    "        print('Eagles fly high')\n",
    "class Sparrow(Bird):\n",
    "    def fly(self):\n",
    "        print('Sparrows fly low')\n",
    "\n",
    "bird = Bird()\n",
    "e1 = Eagle()\n",
    "e1.fly()\n",
    "s1 = Sparrow()\n",
    "s1.fly()\n"
   ]
  },
  {
   "cell_type": "raw",
   "id": "3eab0dea-61e6-4b14-8bd1-ab5428b07674",
   "metadata": {},
   "source": [
    "#18. What is the \"diamond problem\" in multiple inheritance, and how does Python address it?\n",
    "\n",
    "The \"diamond problem\" is a classic issue that arises in languages that support multiple inheritance, where a subclass inherits from two or more classes that have a common ancestor. This problem gets its name from the diamond shape that appears in the inheritance diagram when visualized."
   ]
  },
  {
   "cell_type": "raw",
   "id": "b05a900c-d1a9-4e01-a361-f70a76134470",
   "metadata": {},
   "source": [
    "#19. Discuss the concept of \"is-a\" and \"has-a\" relationships in inheritance, and provide examples of each.\n",
    "\n",
    "\"Is-a\" Relationship --->\n",
    "An \"is-a\" relationship signifies inheritance or specialization, indicating that one class is a specialized version of another class. It's often described as a relationship of a subclass to its superclass, implying that an object of the subclass \"is-a\" type of the superclass.Inheritance allows subclasses to inherit attributes and behaviors from their superclass, while also allowing them to define additional attributes or behaviors specific to the subclass.\n",
    "\n",
    "\"Has-a\" Relationship --->\n",
    "\n",
    "A \"has-a\" relationship indicates that one class contains an instance of another class as a member or attribute. It implies that an object of one class \"has-a\" component of another class.\n",
    "Unlike inheritance, where classes are related by specialization, in \"has-a\" relationships, classes are related by composition, meaning one class contains an instance of another class."
   ]
  },
  {
   "cell_type": "code",
   "execution_count": 28,
   "id": "8d20622b-e12f-4e8e-841c-7b4afcde4590",
   "metadata": {},
   "outputs": [
    {
     "name": "stdout",
     "output_type": "stream",
     "text": [
      "my name is rishi and my age is 27\n",
      "-----------\n",
      "my name is rakesh and my age is 27\n",
      "my student id is 101 and branch is eee\n",
      "-----------\n",
      "my name is p1 and my age is 40\n",
      "my employee id is 201 and branch is ece\n"
     ]
    }
   ],
   "source": [
    "'''20. Create a Python class hierarchy for a university system. Start with a base class `Person` and create child\n",
    "classes `Student` and `Professor`, each with their own attributes and methods. Provide an example of using\n",
    "these classes in a university context.'''\n",
    "\n",
    "class Person:\n",
    "    def __init__(self, name, age):\n",
    "        self.name = name \n",
    "        self.age = age\n",
    "        print(f'my name is {self.name} and my age is {self.age}')\n",
    "class Student(Person):\n",
    "    def __init__(self, name, age, student_id, branch):\n",
    "        super().__init__(name, age)\n",
    "        self.student_id = student_id\n",
    "        self.branch = branch\n",
    "        print(f'my student id is {self.student_id} and branch is {self.branch}')\n",
    "\n",
    "class Professor(Person):\n",
    "    def __init__(self, name, age, employee_id, branch):\n",
    "        super().__init__(name, age)\n",
    "        self.employee_id = employee_id\n",
    "        self.branch = branch\n",
    "        print(f'my employee id is {self.employee_id} and branch is {self.branch}')\n",
    "    \n",
    "    \n",
    "person = Person('rishi',27)\n",
    "print('-----------')\n",
    "student = Student('rakesh',27,101,'eee')\n",
    "print('-----------')\n",
    "professor = Professor('p1',40,201,'ece')\n"
   ]
  },
  {
   "cell_type": "code",
   "execution_count": null,
   "id": "d486eeaf-a222-4b59-8a31-62523591c3da",
   "metadata": {},
   "outputs": [],
   "source": []
  },
  {
   "cell_type": "raw",
   "id": "27f6f83e-dcd3-434f-be11-921605a1ed64",
   "metadata": {},
   "source": [
    "Encapsulation:"
   ]
  },
  {
   "cell_type": "code",
   "execution_count": null,
   "id": "4c03822c-906c-4321-8844-a7adbbcd9e2a",
   "metadata": {},
   "outputs": [],
   "source": []
  },
  {
   "cell_type": "raw",
   "id": "96197ca4-bead-4701-9087-e55141a32e79",
   "metadata": {},
   "source": [
    "#1. Explain the concept of encapsulation in Python. What is its role in object-oriented programming?\n",
    "\n",
    "Encapsulation is one of the fundamental concepts in object-oriented programming (OOP), including Python. It refers to the bundling of data (attributes) and methods (functions) that operate on the data into a single unit, known as a class. In encapsulation, the internal state of an object is hidden from the outside world, and access to it is restricted to methods of the class. Only the class methods can directly manipulate the data within the object."
   ]
  },
  {
   "cell_type": "raw",
   "id": "b2c813d2-a11d-4a55-a0f9-7abe7801cc76",
   "metadata": {},
   "source": [
    "#2. Describe the key principles of encapsulation, including access control and data hiding.\n",
    "\n",
    "Encapsulation encompasses several key principles, such as modularity and maintainability, code reusability inclusding access control and data hiding.\n",
    "\n",
    "Data Hiding: Encapsulation allows you to hide the internal state of an object from the outside world. This means that the implementation details are not exposed to the user, enhancing security and preventing unintended interference with the object's state. In Python, encapsulation is achieved by using access modifiers like private, protected, and public.\n",
    "\n",
    "Access Control: Encapsulation enables you to control access to the data and methods of a class. By defining appropriate access modifiers, you can specify which members are accessible from outside the class and which are not. This helps in enforcing constraints and maintaining the integrity of the object's state.\n",
    "\n",
    "Modularity and Maintainability: Encapsulation promotes modularity by organizing code into logical units (classes) with well-defined interfaces. This makes it easier to understand, modify, and maintain the codebase, as changes to one part of the code are less likely to have unintended consequences on other parts.\n",
    "\n",
    "Abstraction: Encapsulation allows you to abstract away the implementation details and focus on the interface provided by the class. Users of the class only need to know how to interact with it through its public methods, without needing to understand the internal workings.\n",
    "\n",
    "Code Reusability: Encapsulation facilitates code reuse by encapsulating reusable components (classes) that can be easily integrated into different parts of an application. This promotes a modular and scalable design approach."
   ]
  },
  {
   "cell_type": "code",
   "execution_count": 1,
   "id": "da03ebe7-33be-417b-aa64-c1b21ea75053",
   "metadata": {},
   "outputs": [
    {
     "name": "stdout",
     "output_type": "stream",
     "text": [
      "Make: Toyota\n",
      "Model: Camry\n",
      "Year: 2020\n",
      "Updated Year: 2021\n"
     ]
    }
   ],
   "source": [
    "#3. How can you achieve encapsulation in Python classes? Provide an example.\n",
    "\n",
    "'''Encapsulation in Python can be achieved using access modifiers and following certain conventions to hide the internal state of objects and control access to their attributes and methods.'''\n",
    "\n",
    "class Car:\n",
    "    def __init__(self, make, model, year):\n",
    "        self.__make = make \n",
    "        self.__model = model \n",
    "        self.__year = year \n",
    "\n",
    "\n",
    "    def get_make(self):\n",
    "        return self.__make\n",
    "\n",
    "    def get_model(self):\n",
    "        return self.__model\n",
    "\n",
    "    def get_year(self):\n",
    "        return self.__year\n",
    "\n",
    "    def set_make(self, make):\n",
    "        self.__make = make\n",
    "\n",
    "    def set_model(self, model):\n",
    "        self.__model = model\n",
    "\n",
    "    def set_year(self, year):\n",
    "        self.__year = year\n",
    "\n",
    "\n",
    "my_car = Car(\"Toyota\", \"Camry\", 2020)\n",
    "\n",
    "print(\"Make:\", my_car.get_make()) \n",
    "print(\"Model:\", my_car.get_model())\n",
    "print(\"Year:\", my_car.get_year()) \n",
    "\n",
    "my_car.set_year(2021)\n",
    "print(\"Updated Year:\", my_car.get_year())"
   ]
  },
  {
   "cell_type": "raw",
   "id": "289c1007-6ac1-45a5-b97d-de1a49b342d2",
   "metadata": {},
   "source": [
    "#4. Discuss the difference between public, private, and protected access modifiers in Python.\n",
    "\n",
    "Public: Accessible from anywhere, no prefix.\n",
    "Private: Intended to be accessed only within the class, prefixed with double underscores (__), name-mangled.\n",
    "Protected: Intended to be accessed only within the class and its subclasses, prefixed with a single underscore (_), conventionally treated as non-public."
   ]
  },
  {
   "cell_type": "code",
   "execution_count": 16,
   "id": "b44ac225-24c4-44a7-9209-1cc364ea09b2",
   "metadata": {},
   "outputs": [
    {
     "name": "stdout",
     "output_type": "stream",
     "text": [
      "rishi\n",
      "ram\n",
      "ram\n"
     ]
    }
   ],
   "source": [
    "#5. Create a Python class called `Person` with a private attribute `__name`. Provide methods to get and set the name attribute.\n",
    "\n",
    "class Person:\n",
    "    def __init__(self, name):\n",
    "        self.__name = name\n",
    "    def get_name(self):\n",
    "        return self.__name\n",
    "    def set_name(self,name):\n",
    "        self.__name = name\n",
    "        return self.__name\n",
    "person_1 = Person('rishi')\n",
    "print(person_1.get_name())\n",
    "print(person_1.set_name('ram'))\n",
    "print(person_1.get_name())\n"
   ]
  },
  {
   "cell_type": "code",
   "execution_count": 23,
   "id": "c84e8e78-3638-4038-8b38-73736b3a5c90",
   "metadata": {},
   "outputs": [
    {
     "name": "stdout",
     "output_type": "stream",
     "text": [
      "rishi\n",
      "ram\n",
      "ram\n"
     ]
    }
   ],
   "source": [
    "#6. Explain the purpose of getter and setter methods in encapsulation. Provide examples.\n",
    "\n",
    "'''Getter Methods:\n",
    "Getter methods are used to retrieve the values of private attributes. They allow access to the attribute values without exposing the attributes themselves directly. Getter methods are particularly useful when you want to perform additional logic or computations before returning the attribute value.\n",
    "\n",
    "Setter Methods:\n",
    "Setter methods are used to modify the values of private attributes. They provide a controlled way to update the state of an object while enforcing validation rules or performing other necessary operations. Setter methods are essential for maintaining data integrity and encapsulating the modification logic within the class.\n",
    "'''\n",
    "\n",
    "class Person:\n",
    "    def __init__(self, name):\n",
    "        self.__name = name\n",
    "    #getter method \n",
    "    def get_name(self):\n",
    "        return self.__name\n",
    "    #setter Method\n",
    "    def set_name(self,name):\n",
    "        self.__name = name\n",
    "        return self.__name\n",
    "person_1 = Person('rishi')\n",
    "print(person_1.get_name())\n",
    "print(person_1.set_name('ram'))\n",
    "print(person_1.get_name())"
   ]
  },
  {
   "cell_type": "code",
   "execution_count": 24,
   "id": "9ebefe8e-9994-4c70-be38-8081af653a04",
   "metadata": {},
   "outputs": [
    {
     "name": "stdout",
     "output_type": "stream",
     "text": [
      "rishi\n"
     ]
    }
   ],
   "source": [
    "#7. What is name mangling in Python, and how does it affect encapsulation?\n",
    "\n",
    "'''Name mangling is a technique used in Python to modify the names of variables, methods, or attributes in a way that makes them less accessible from outside the class where they are defined. This technique is primarily used to implement private attributes and methods by prefixing their names with double underscores (__).When a member of a class is prefixed with double underscores (__), Python internally renames it to include the class name as a prefix. This transformation helps in avoiding name clashes in subclasses, ensuring that the private members of a class remain private to that class only.'''\n",
    "\n",
    "class Person:\n",
    "    def __init__(self, name):\n",
    "        self.__name = name\n",
    "\n",
    "    def get_name(self):\n",
    "        return self.__name\n",
    "person = Person('rishi')\n",
    "#name mangling\n",
    "print(person._Person__name) \n"
   ]
  },
  {
   "cell_type": "raw",
   "id": "62fead8d-1601-4779-b620-6f872293551b",
   "metadata": {},
   "source": [
    "8. Create a Python class called `BankAccount` with private attributes for the account balance (`__balance`) and account number (`__account_number`). Provide methods for depositing and withdrawing money."
   ]
  },
  {
   "cell_type": "code",
   "execution_count": 25,
   "id": "ca11d22d-a09a-4bc3-82df-99209ca5ece7",
   "metadata": {},
   "outputs": [
    {
     "name": "stdout",
     "output_type": "stream",
     "text": [
      "Total balance =  10500\n",
      "Total balance =  10300\n"
     ]
    }
   ],
   "source": [
    "class BankAccount:\n",
    "    def __init__(self,balance, account_number):\n",
    "        self.__balance = balance\n",
    "        self.__account_number = account_number\n",
    "    \n",
    "    def Deposit(self, amount):\n",
    "        self.amount = amount\n",
    "        total_amount = self.__balance + self.amount\n",
    "        print('Total balance = ', total_amount)\n",
    "        self.__balance = total_amount\n",
    "    \n",
    "    def Withdrawl(self, amount):\n",
    "        self.amount = amount\n",
    "        total_amount = self.__balance - self.amount\n",
    "        print('Total balance = ', total_amount)\n",
    "        self.__balance = total_amount\n",
    "\n",
    "acc_1 = BankAccount(10000, 101)\n",
    "acc_1.Deposit(500)\n",
    "acc_1.Withdrawl(200)"
   ]
  },
  {
   "cell_type": "raw",
   "id": "c2f56100-1b6f-4306-b1d2-00d570bc8cb8",
   "metadata": {},
   "source": [
    "#9. Discuss the advantages of encapsulation in terms of code maintainability and security.\n",
    "\n",
    "Code maintainability :-\n",
    "Encapsulation promotes modularity by bundling related data (attributes) and behavior (methods) into a single unit, the class.\n",
    "Classes serve as self-contained modules, making it easier to organize and manage code.\n",
    "Well-encapsulated classes with clear interfaces facilitate code comprehension and maintenance by isolating implementation details and hiding complexity.\n",
    "\n",
    "Security and Access Control:-\n",
    "Encapsulation enhances security by limiting access to sensitive data and operations.\n",
    "Private attributes and methods are inaccessible from outside the class, preventing unauthorized manipulation and ensuring that data is accessed and modified only through controlled interfaces.\n",
    "Access control mechanisms such as public, private, and protected access modifiers help enforce encapsulation and prevent unintended access or modification of object state."
   ]
  },
  {
   "cell_type": "code",
   "execution_count": 34,
   "id": "fc04154f-47c2-414c-864a-f5f8e8d481c6",
   "metadata": {},
   "outputs": [
    {
     "name": "stdout",
     "output_type": "stream",
     "text": [
      "Private attributes are intended to be accessed only within the class where they are defined. However, there are ways to access private attributes from outside the class using name mangling. Name mangling is a technique where Python internally modifies the names of private attributes to include the class name as a prefix, making it harder to access them directly.\n",
      "\n",
      "----------------\n",
      "\n",
      "output-\n",
      "rishi\n"
     ]
    }
   ],
   "source": [
    "#10. How can you access private attributes in Python? Provide an example demonstrating the use of name mangling.\n",
    "\n",
    "print('''Private attributes are intended to be accessed only within the class where they are defined. However, there are ways to access private attributes from outside the class using name mangling. Name mangling is a technique where Python internally modifies the names of private attributes to include the class name as a prefix, making it harder to access them directly.''')\n",
    "    \n",
    "class Person:\n",
    "    def __init__(self, name):\n",
    "        self.__name = name\n",
    "\n",
    "    def get_name(self):\n",
    "        return self.__name\n",
    "person = Person('rishi')\n",
    "#name mangling\n",
    "\n",
    "print('''\n",
    "----------------\n",
    "\n",
    "output-''')\n",
    "print(person._Person__name) "
   ]
  },
  {
   "cell_type": "code",
   "execution_count": 36,
   "id": "bde421d9-2d89-4bf8-89b8-c40b9a2d6a99",
   "metadata": {},
   "outputs": [
    {
     "name": "stdout",
     "output_type": "stream",
     "text": [
      "Student: Alice ID: S12345 Courses: ['Mathematics']\n",
      "Teacher: Bob ID: T98765 Courses Taught: ['Mathematics']\n"
     ]
    }
   ],
   "source": [
    "'''11. Create a Python class hierarchy for a school system, including classes for students, teachers, and courses,and implement encapsulation principles to protect sensitive information.'''\n",
    "\n",
    "class Person:\n",
    "    def __init__(self, name, age, gender):\n",
    "        self._name = name \n",
    "        self._age = age \n",
    "        self._gender = gender \n",
    "\n",
    "    def get_name(self):\n",
    "        return self._name\n",
    "\n",
    "    def get_age(self):\n",
    "        return self._age\n",
    "\n",
    "    def get_gender(self):\n",
    "        return self._gender\n",
    "\n",
    "\n",
    "class Student(Person):\n",
    "    def __init__(self, name, age, gender, student_id):\n",
    "        super().__init__(name, age, gender)\n",
    "        self.__student_id = student_id \n",
    "        self._courses = [] \n",
    "\n",
    "    def enroll_course(self, course):\n",
    "        self._courses.append(course)\n",
    "\n",
    "    def get_student_id(self):\n",
    "        return self.__student_id\n",
    "\n",
    "    def get_courses(self):\n",
    "        return self._courses\n",
    "\n",
    "\n",
    "class Teacher(Person):\n",
    "    def __init__(self, name, age, gender, employee_id):\n",
    "        super().__init__(name, age, gender)\n",
    "        self.__employee_id = employee_id  \n",
    "        self._courses_taught = [] \n",
    "\n",
    "    def assign_course(self, course):\n",
    "        self._courses_taught.append(course)\n",
    "\n",
    "    def get_employee_id(self):\n",
    "        return self.__employee_id\n",
    "\n",
    "    def get_courses_taught(self):\n",
    "        return self._courses_taught\n",
    "\n",
    "\n",
    "class Course:\n",
    "    def __init__(self, course_name, course_code):\n",
    "        self._course_name = course_name  \n",
    "        self._course_code = course_code  \n",
    "\n",
    "    def get_course_name(self):\n",
    "        return self._course_name\n",
    "\n",
    "    def get_course_code(self):\n",
    "        return self._course_code\n",
    "\n",
    "student = Student(\"Alice\", 18, \"Female\", \"S12345\")\n",
    "teacher = Teacher(\"Bob\", 35, \"Male\", \"T98765\")\n",
    "course = Course(\"Mathematics\", \"MATH101\")\n",
    "\n",
    "\n",
    "student.enroll_course(course)\n",
    "teacher.assign_course(course)\n",
    "\n",
    "\n",
    "print(\"Student:\", student.get_name(), \"ID:\", student.get_student_id(), \"Courses:\", [c.get_course_name() for c in student.get_courses()])\n",
    "print(\"Teacher:\", teacher.get_name(), \"ID:\", teacher.get_employee_id(), \"Courses Taught:\", [c.get_course_name() for c in teacher.get_courses_taught()])\n"
   ]
  },
  {
   "cell_type": "raw",
   "id": "68656071-a409-4d9a-ab20-161caf886ba5",
   "metadata": {},
   "source": [
    "#12. Explain the concept of property decorators in Python and how they relate to encapsulation.\n",
    "\n",
    "In Python, property decorators are a way to define properties within a class that allow controlled access to its attributes. Properties enable the use of getter, setter, and deleter methods to manage attribute access and modification. Property decorators provide a convenient way to define these methods without explicitly calling them."
   ]
  },
  {
   "cell_type": "code",
   "execution_count": 41,
   "id": "2eecb704-f03d-4da5-b325-75097c300e27",
   "metadata": {},
   "outputs": [
    {
     "name": "stdout",
     "output_type": "stream",
     "text": [
      "Account Number: 123456789\n",
      "Balance: 1000\n",
      "Deposited 500. New balance: 1500\n",
      "Withdrew 200. New balance: 1300\n"
     ]
    }
   ],
   "source": [
    "#13. What is data hiding, and why is it important in encapsulation? Provide examples.\n",
    "\n",
    "\n",
    "'''Data Hiding: Encapsulation allows you to hide the internal state of an object from the outside world. This means that the implementation details are not exposed to the user, enhancing security and preventing unintended interference with the object's state. In Python, encapsulation is achieved by using access modifiers like private, protected, and public.'''\n",
    "\n",
    "class BankAccount:\n",
    "    def __init__(self, account_number, balance):\n",
    "        self._account_number = account_number \n",
    "        self.__balance = balance\n",
    "\n",
    "    def deposit(self, amount):\n",
    "        if amount > 0:\n",
    "            self.__balance += amount\n",
    "            print(f\"Deposited {amount}. New balance: {self.__balance}\")\n",
    "        else:\n",
    "            print(\"Invalid deposit amount. Please deposit a positive amount.\")\n",
    "\n",
    "    def withdraw(self, amount):\n",
    "        if 0 < amount <= self.__balance:\n",
    "            self.__balance -= amount\n",
    "            print(f\"Withdrew {amount}. New balance: {self.__balance}\")\n",
    "        else:\n",
    "            print(\"Invalid withdrawal amount or insufficient balance.\")\n",
    "\n",
    "    def get_balance(self):\n",
    "        \"\"\"Get the current balance of the account.\"\"\"\n",
    "        return self.__balance\n",
    "\n",
    "\n",
    "account = BankAccount(\"123456789\", 1000)\n",
    "print(\"Account Number:\", account._account_number)  \n",
    "print(\"Balance:\", account.get_balance())  \n",
    "account.deposit(500)\n",
    "account.withdraw(200)\n"
   ]
  },
  {
   "cell_type": "raw",
   "id": "b7299d08-dd05-41e3-bd85-0f2364c50b60",
   "metadata": {},
   "source": [
    "14. Create a Python class called `Employee` with private attributes for salary (`__salary`) and employee ID (`__employee_id`). Provide a method to calculate yearly bonuses.\n"
   ]
  },
  {
   "cell_type": "code",
   "execution_count": 47,
   "id": "ffe819d9-1285-419c-8528-65cb82490b1e",
   "metadata": {},
   "outputs": [
    {
     "name": "stdout",
     "output_type": "stream",
     "text": [
      "your yearly bonus is -  1000.0\n"
     ]
    }
   ],
   "source": [
    "class Employee:\n",
    "    def __init__(self, salary, emp_id):\n",
    "        self.__salary = salary\n",
    "        self.__emp_id = emp_id\n",
    "    \n",
    "    def yerly_bonus(self,bonus_pcent):\n",
    "        self.bonus_pcent = bonus_pcent\n",
    "        print('your yearly bonus is - ',(self.__salary * bonus_pcent)/100)\n",
    "\n",
    "emp = Employee(10000, 101)\n",
    "emp.yerly_bonus(10)"
   ]
  },
  {
   "cell_type": "raw",
   "id": "0a435709-e34c-4a5b-9002-7b407b3302c1",
   "metadata": {},
   "source": [
    "#15. Discuss the use of accessors and mutators in encapsulation. How do they help maintain control over attribute access?\n",
    "\n",
    "\n",
    "Accessors and mutators, also known as getter and setter methods, are essential components of encapsulation in object-oriented programming. They facilitate controlled access to the attributes of an object, allowing for better management and validation of attribute values.\n",
    "By providing accessors and mutators for private attributes, encapsulation ensures that the internal state of an object remains protected from unintended interference and manipulation. Access to attributes is mediated through these controlled interfaces, allowing the object to maintain data integrity and enforce business logic."
   ]
  },
  {
   "cell_type": "raw",
   "id": "9ffa1640-febc-4803-bf63-883b99904fed",
   "metadata": {},
   "source": [
    "16. What are the potential drawbacks or disadvantages of using encapsulation in Python?\n",
    "\n",
    "Complexity:- Encapsulation can introduce additional complexity to the codebase, especially when implementing getter and setter methods for multiple attributes. This complexity may make the code harder to understand, particularly for developers unfamiliar with the codebase.\n",
    "\n",
    "Performance Overhead:- Using getter and setter methods for attribute access can introduce a slight performance overhead compared to directly accessing attributes. While the overhead is usually negligible, it can become a concern in performance-critical applications.\n",
    "\n",
    "Boilerplate Code:- Implementing getter and setter methods for each attribute can result in boilerplate code, especially in classes with many attributes. This can lead to code duplication and increase the risk of errors.\n",
    "\n",
    "Limited Enforcement of Access Control:- Unlike some other programming languages like Java, Python does not enforce access control for attributes marked as private or protected. While naming conventions and documentation help communicate intended access levels, they do not prevent direct access to attributes from outside the class.\n",
    "\n",
    "Potential Misuse of Properties:- Python's property decorator allows for more flexible implementation of getter and setter methods, but it also opens the door to potential misuse. Improper use of properties may violate encapsulation principles by exposing too much of the internal state of an object.\n",
    "\n",
    "Over-Encapsulation:- Over-encapsulation, or excessive use of encapsulation, can lead to overly complex designs and hinder code readability and maintainability. It's essential to strike a balance between encapsulation and simplicity in the design of classes and objects.\n",
    "\n",
    "Debugging and Testing-: Encapsulation can sometimes make debugging and testing more challenging, especially when dealing with private attributes or methods. Testing classes with encapsulated behavior may require more extensive mocking or dependency injection to isolate units of code for testing.\n"
   ]
  },
  {
   "cell_type": "code",
   "execution_count": 49,
   "id": "4f9c3617-b746-496c-9119-29ff974d3475",
   "metadata": {},
   "outputs": [
    {
     "name": "stdout",
     "output_type": "stream",
     "text": [
      "Book 1: Harry Potter and the Philosopher's Stone by J.K. Rowling\n",
      "Book 2: To Kill a Mockingbird by Harper Lee\n",
      "Book 1 Availability: Available\n",
      "Book 'Harry Potter and the Philosopher's Stone' by J.K. Rowling has been borrowed.\n",
      "Book 'Harry Potter and the Philosopher's Stone' by J.K. Rowling has been returned.\n",
      "Book 'To Kill a Mockingbird' by Harper Lee has been borrowed.\n"
     ]
    }
   ],
   "source": [
    "#17. Create a Python class for a library system that encapsulates book information, including titles, authors, and availability status.\n",
    "\n",
    "class Book:\n",
    "    def __init__(self, title, author):\n",
    "        self._title = title  \n",
    "        self._author = author \n",
    "        self._available = True  \n",
    "        \n",
    "    def get_title(self):\n",
    "        \"\"\"Getter method for book title.\"\"\"\n",
    "        return self._title\n",
    "\n",
    "    def get_author(self):\n",
    "        \"\"\"Getter method for book author.\"\"\"\n",
    "        return self._author\n",
    "\n",
    "    def is_available(self):\n",
    "        \"\"\"Getter method for availability status.\"\"\"\n",
    "        return self._available\n",
    "\n",
    "    def borrow(self):\n",
    "        \"\"\"Method to borrow the book.\"\"\"\n",
    "        if self._available:\n",
    "            self._available = False\n",
    "            print(f\"Book '{self._title}' by {self._author} has been borrowed.\")\n",
    "        else:\n",
    "            print(f\"Book '{self._title}' by {self._author} is not available.\")\n",
    "\n",
    "    def return_book(self):\n",
    "        \"\"\"Method to return the book.\"\"\"\n",
    "        if not self._available:\n",
    "            self._available = True\n",
    "            print(f\"Book '{self._title}' by {self._author} has been returned.\")\n",
    "        else:\n",
    "            print(f\"Book '{self._title}' by {self._author} is already available.\")\n",
    "\n",
    "\n",
    "book1 = Book(\"Harry Potter and the Philosopher's Stone\", \"J.K. Rowling\")\n",
    "book2 = Book(\"To Kill a Mockingbird\", \"Harper Lee\")\n",
    "\n",
    "print(\"Book 1:\", book1.get_title(), \"by\", book1.get_author()) \n",
    "print(\"Book 2:\", book2.get_title(), \"by\", book2.get_author())\n",
    "\n",
    "\n",
    "print(\"Book 1 Availability:\", \"Available\" if book1.is_available() else \"Not Available\")  \n",
    "\n",
    "\n",
    "book1.borrow()  \n",
    "book1.return_book()  \n",
    "book2.borrow()  \n"
   ]
  },
  {
   "cell_type": "raw",
   "id": "33305a92-890b-4d43-9d47-96ac8c7a6be0",
   "metadata": {},
   "source": [
    "#18. Explain how encapsulation enhances code reusability and modularity in Python programs.\n",
    "\n",
    "encapsulation enhances code reusability and modularity by promoting the creation of self-contained and reusable components, facilitating code organization, supporting inheritance and composition, and simplifying testing. It enables the development of modular, maintainable, and scalable Python programs that are easier to understand, extend, and maintain over time."
   ]
  },
  {
   "cell_type": "raw",
   "id": "efbef0b4-b98c-45bc-9ecf-d04c5b6b920a",
   "metadata": {},
   "source": [
    "#19. Describe the concept of information hiding in encapsulation. Why is it essential in software development?\n",
    "\n",
    "Information hiding is a fundamental concept in encapsulation that involves concealing the internal implementation details of an object or module, exposing only those aspects that are necessary for interaction with other parts of the system. The primary goal of information hiding is to minimize dependencies, reduce coupling between different components, and protect the integrity of the system by preventing unintended access or modification of internal state.\n",
    "information hiding is essential in software development as it promotes modularity, reduces coupling, enhances security, and facilitates the creation of robust and maintainable software systems. By concealing implementation details and exposing only essential interfaces, information hiding encapsulates complexity, simplifies interaction between components, and improves the overall quality of software."
   ]
  },
  {
   "cell_type": "code",
   "execution_count": 50,
   "id": "992ee0a0-4518-4943-91dc-da66d95cdc01",
   "metadata": {},
   "outputs": [
    {
     "name": "stdout",
     "output_type": "stream",
     "text": [
      "Name: John Doe\n",
      "Address: 123 Main St, Anytown\n",
      "Contact Info: john.doe@example.com\n",
      "Modified Name: Jane Smith\n",
      "Modified Address: 456 Elm St, Othertown\n",
      "Modified Contact Info: jane.smith@example.com\n"
     ]
    }
   ],
   "source": [
    "#20. Create a Python class called `Customer` with private attributes for customer details like name, address, and contact information. Implement encapsulation to ensure data integrity and security.\n",
    "\n",
    "class Customer:\n",
    "    def __init__(self, name, address, contact_info):\n",
    "        self.__name = name  \n",
    "        self.__address = address\n",
    "        self.__contact_info = contact_info  \n",
    "\n",
    "    def get_name(self):\n",
    "        \"\"\"Getter method for customer name.\"\"\"\n",
    "        return self.__name\n",
    "\n",
    "    def set_name(self, name):\n",
    "        \"\"\"Setter method for customer name.\"\"\"\n",
    "        self.__name = name\n",
    "\n",
    "    def get_address(self):\n",
    "        \"\"\"Getter method for customer address.\"\"\"\n",
    "        return self.__address\n",
    "\n",
    "    def set_address(self, address):\n",
    "        \"\"\"Setter method for customer address.\"\"\"\n",
    "        self.__address = address\n",
    "\n",
    "    def get_contact_info(self):\n",
    "        \"\"\"Getter method for customer contact information.\"\"\"\n",
    "        return self.__contact_info\n",
    "\n",
    "    def set_contact_info(self, contact_info):\n",
    "        \"\"\"Setter method for customer contact information.\"\"\"\n",
    "        self.__contact_info = contact_info\n",
    "\n",
    "customer = Customer(\"John Doe\", \"123 Main St, Anytown\", \"john.doe@example.com\")\n",
    "\n",
    "print(\"Name:\", customer.get_name())\n",
    "print(\"Address:\", customer.get_address())\n",
    "print(\"Contact Info:\", customer.get_contact_info()) \n",
    "\n",
    "customer.set_name(\"Jane Smith\")\n",
    "customer.set_address(\"456 Elm St, Othertown\")\n",
    "customer.set_contact_info(\"jane.smith@example.com\")\n",
    "\n",
    "print(\"Modified Name:\", customer.get_name()) \n",
    "print(\"Modified Address:\", customer.get_address())  \n",
    "print(\"Modified Contact Info:\", customer.get_contact_info()) \n"
   ]
  },
  {
   "cell_type": "code",
   "execution_count": null,
   "id": "edb9a273-dbfe-4ca5-9c67-5eede1bbbe66",
   "metadata": {},
   "outputs": [],
   "source": []
  },
  {
   "cell_type": "markdown",
   "id": "aa7d3237-9ac2-4d36-b34e-ec41a3ad8fd7",
   "metadata": {},
   "source": [
    "Polymorphism:"
   ]
  },
  {
   "cell_type": "code",
   "execution_count": null,
   "id": "cbdf93a2-95bf-47ee-a3f7-70b1767813ee",
   "metadata": {},
   "outputs": [],
   "source": []
  },
  {
   "cell_type": "raw",
   "id": "060b5a8e-f5e5-44e6-9754-d1a69fa65cc0",
   "metadata": {},
   "source": [
    "#1. What is polymorphism in Python? Explain how it is related to object-oriented programming.\n",
    "\n",
    "Polymorphism is multiple methods returning similar properties. Polymorphism is a key concept in object-oriented programming (OOP) that allows objects of different classes to be treated as objects of a common superclass. It enables a single interface to be used for entities of different types, providing a way to perform similar operations on these objects without knowing their specific types in advance. Polymorphism promotes code reusability, flexibility, and extensibility by allowing different classes to implement the same interface in their own unique way."
   ]
  },
  {
   "cell_type": "raw",
   "id": "8d455659-c691-42c4-85d2-ed085a46bd7e",
   "metadata": {},
   "source": [
    "#2. Describe the difference between compile-time polymorphism and runtime polymorphism in Python.\n",
    "\n",
    "Compile-Time Polymorphism (Static Polymorphism):\n",
    "Compile-time polymorphism is typically achieved through function overloading and operator overloading.\n",
    "Function overloading allows multiple functions with the same name but different parameter lists to be defined in the same scope. The appropriate function to call is determined at compile time based on the number and types of arguments passed.\n",
    "Operator overloading allows operators to behave differently depending on the types of operands involved. For example, + can be overloaded to perform addition for numbers or concatenation for strings.\n",
    "\n",
    "Runtime Polymorphism (Dynamic Polymorphism):\n",
    "\n",
    "In Python, runtime polymorphism refers to the ability of objects of different classes to exhibit different behaviors for the same method name at runtime. Runtime polymorphism is typically achieved through method overriding and duck typing.\n",
    "Method overriding allows subclasses to provide their own implementation of methods defined in their parent class. The appropriate method to call is determined at runtime based on the actual type of the object.\n",
    "Duck typing allows objects to be treated as instances of a common superclass if they support the required interface (i.e., have the necessary methods and attributes), enabling polymorphic behavior without explicit inheritance relationships."
   ]
  },
  {
   "cell_type": "raw",
   "id": "612049fd-1330-4066-b237-93b17b24811d",
   "metadata": {},
   "source": [
    "#3. Create a Python class hierarchy for shapes (e.g., circle, square, triangle) and demonstrate polymorphism through a common method, such as `calculate_area()`."
   ]
  },
  {
   "cell_type": "code",
   "execution_count": 65,
   "id": "0140ab3f-53c9-4d78-ae43-a6ac7cc552cd",
   "metadata": {},
   "outputs": [
    {
     "name": "stdout",
     "output_type": "stream",
     "text": [
      "Area of circle= 363.2\n",
      "Area of square = 20\n",
      "Area of triangle = 25.0\n"
     ]
    }
   ],
   "source": [
    "class Circle:\n",
    "    def __init__(self, radius):\n",
    "        self.radius = radius\n",
    "    \n",
    "    def area(self):\n",
    "        print('Area of circle=', (22.7 * (self.radius ** 2)))\n",
    "        \n",
    "class Square: \n",
    "    def __init__(self, length):\n",
    "        self.length = length\n",
    "    def area(self):  \n",
    "        print('Area of square =', self.length * 4)\n",
    "        \n",
    "class Triangle:\n",
    "    def __init__(self, base, height):\n",
    "        self.base = base\n",
    "        self.height = height\n",
    "    def area(self):    \n",
    "        print('Area of triangle =', (0.5 * self.base * self.height))\n",
    "    \n",
    "def calculate_area(shape):\n",
    "    return shape.area()\n",
    "\n",
    "\n",
    "circle = Circle(4)\n",
    "square = Square(5)\n",
    "triangle = Triangle(5,10)\n",
    "\n",
    "calculate_area(circle)\n",
    "calculate_area(square)\n",
    "calculate_area(triangle)\n"
   ]
  },
  {
   "cell_type": "code",
   "execution_count": 69,
   "id": "13fd0779-24a1-4f96-bd57-77bc2189055b",
   "metadata": {},
   "outputs": [
    {
     "name": "stdout",
     "output_type": "stream",
     "text": [
      "Area of Circle: 50.24\n",
      "Area of Square: 25\n",
      "Area of Triangle: 25.0\n"
     ]
    }
   ],
   "source": [
    "#4. Explain the concept of method overriding in polymorphism. Provide an example.\n",
    "\n",
    "'''Method overriding is a fundamental concept in polymorphism that allows a subclass to provide a specific implementation\n",
    "of a method that is already defined in its superclass. When a method is overridden in a subclass, the subclass's version \n",
    "of the method takes precedence over the superclass's version when called on objects of the subclass.'''\n",
    "\n",
    "class Shape:\n",
    "    def area(self):\n",
    "        pass\n",
    "\n",
    "\n",
    "class Circle(Shape):\n",
    "    def __init__(self, radius):\n",
    "        self.radius = radius\n",
    "\n",
    "    def area(self):\n",
    "        return 3.14 * (self.radius ** 2)\n",
    "\n",
    "\n",
    "class Square(Shape):\n",
    "    def __init__(self, side_length):\n",
    "        self.side_length = side_length\n",
    "\n",
    "    def area(self):\n",
    "        return self.side_length ** 2\n",
    "\n",
    "\n",
    "class Triangle(Shape):\n",
    "    def __init__(self, base, height):\n",
    "        self.base = base\n",
    "        self.height = height\n",
    "\n",
    "    def area(self):\n",
    "        return 0.5 * self.base * self.height\n",
    "\n",
    "\n",
    "circle = Circle(4)\n",
    "square = Square(5)\n",
    "triangle = Triangle(5, 10)\n",
    "\n",
    "print(\"Area of Circle:\", circle.area())  \n",
    "print(\"Area of Square:\", square.area()) \n",
    "print(\"Area of Triangle:\", triangle.area())  "
   ]
  },
  {
   "cell_type": "code",
   "execution_count": 70,
   "id": "803158a9-3e09-42d9-85ab-8d71fce3146a",
   "metadata": {},
   "outputs": [
    {
     "name": "stdout",
     "output_type": "stream",
     "text": [
      "Woof!\n",
      "Meow!\n"
     ]
    }
   ],
   "source": [
    "#5. How is polymorphism different from method overloading in Python? Provide examples for both.\n",
    "\n",
    "'''polymorphism refers to the ability of objects of different types to be treated as instances of a common superclass, \n",
    "achieved through method overriding. Method overloading, on the other hand, allows multiple methods with the same name\n",
    "but different parameter lists to be defined within a single class.'''\n",
    "\n",
    "class Animal:\n",
    "    def speak(self):\n",
    "        pass\n",
    "\n",
    "class Dog(Animal):\n",
    "    def speak(self):\n",
    "        return \"Woof!\"\n",
    "\n",
    "class Cat(Animal):\n",
    "    def speak(self):\n",
    "        return \"Meow!\"\n",
    "\n",
    "    \n",
    "def make_animal_speak(animal):\n",
    "    print(animal.speak())\n",
    "    \n",
    "dog = Dog()\n",
    "cat = Cat()\n",
    "\n",
    "make_animal_speak(dog) \n",
    "make_animal_speak(cat)\n"
   ]
  },
  {
   "cell_type": "raw",
   "id": "a3a05027-02af-4ddf-9596-e7cb27efa55f",
   "metadata": {},
   "source": [
    "6. Create a Python class called `Animal` with a method `speak()`. Then, create child classes like `Dog`, `Cat`, and `Bird`, each with their own `speak()` method. Demonstrate polymorphism by calling the `speak()` method\n",
    "on objects of different subclasses."
   ]
  },
  {
   "cell_type": "code",
   "execution_count": 1,
   "id": "3b999817-a9f8-4d6e-bf85-8506daab1783",
   "metadata": {},
   "outputs": [
    {
     "name": "stdout",
     "output_type": "stream",
     "text": [
      "Woof!\n",
      "Meow!\n",
      "chiw chiw!\n"
     ]
    }
   ],
   "source": [
    "\n",
    "class Animal:\n",
    "    def speak(self):\n",
    "        pass\n",
    "\n",
    "class Dog(Animal):\n",
    "    def speak(self):\n",
    "        return \"Woof!\"\n",
    "\n",
    "class Cat(Animal):\n",
    "    def speak(self):\n",
    "        return \"Meow!\"\n",
    "class Bird(Animal):\n",
    "    def speak(self):\n",
    "        return \"chiw chiw!\"\n",
    "    \n",
    "def make_animal_speak(animal):\n",
    "    print(animal.speak())\n",
    "    \n",
    "dog = Dog()\n",
    "cat = Cat()\n",
    "bird = Bird()\n",
    "\n",
    "make_animal_speak(dog) \n",
    "make_animal_speak(cat)\n",
    "make_animal_speak(bird) \n",
    "\n"
   ]
  },
  {
   "cell_type": "raw",
   "id": "fbb59360-58db-4c74-a13f-0333d463e70f",
   "metadata": {},
   "source": [
    "7. Discuss the use of abstract methods and classes in achieving polymorphism in Python. Provide an example using the `abc` module.\n",
    "\n",
    "Abstract methods and classes play a crucial role in achieving polymorphism in Python by providing a way to define common interfaces without providing implementations. This allows subclasses to override these abstract methods with their own implementations, enabling polymorphic behavior."
   ]
  },
  {
   "cell_type": "code",
   "execution_count": 2,
   "id": "07382d7a-d2db-4ba9-baee-a17973c4459c",
   "metadata": {},
   "outputs": [
    {
     "name": "stdout",
     "output_type": "stream",
     "text": [
      "Area: 50.24\n",
      "Area: 25\n",
      "Area: 25.0\n"
     ]
    }
   ],
   "source": [
    "from abc import ABC, abstractmethod\n",
    "\n",
    "class Shape(ABC):\n",
    "    @abstractmethod\n",
    "    def area(self):\n",
    "        pass\n",
    "class Circle(Shape):\n",
    "    def __init__(self, radius):\n",
    "        self.radius = radius\n",
    "\n",
    "    def area(self):\n",
    "        return 3.14 * (self.radius ** 2)\n",
    "\n",
    "class Square(Shape):\n",
    "    def __init__(self, side_length):\n",
    "        self.side_length = side_length\n",
    "\n",
    "    def area(self):\n",
    "        return self.side_length ** 2\n",
    "\n",
    "class Triangle(Shape):\n",
    "    def __init__(self, base, height):\n",
    "        self.base = base\n",
    "        self.height = height\n",
    "\n",
    "    def area(self):\n",
    "        return 0.5 * self.base * self.height\n",
    "def calculate_area(shape):\n",
    "    print(\"Area:\", shape.area())\n",
    "circle = Circle(4)\n",
    "square = Square(5)\n",
    "triangle = Triangle(5, 10)\n",
    "calculate_area(circle)    \n",
    "calculate_area(square)   \n",
    "calculate_area(triangle)  "
   ]
  },
  {
   "cell_type": "raw",
   "id": "c914fd8d-ead6-46c6-9eb1-107b2982dd34",
   "metadata": {},
   "source": [
    "8. Create a Python class hierarchy for a vehicle system (e.g., car, bicycle, boat) and implement a polymorphic `start()` method that prints a message specific to each vehicle type."
   ]
  },
  {
   "cell_type": "code",
   "execution_count": 9,
   "id": "51659df6-e4b0-4bd7-b69a-7a82c1245578",
   "metadata": {},
   "outputs": [
    {
     "name": "stdout",
     "output_type": "stream",
     "text": [
      "Car started\n",
      "Bicycle started\n",
      "Boat started\n"
     ]
    }
   ],
   "source": [
    "\n",
    "class Vehicle:\n",
    "    def start(self):\n",
    "        pass\n",
    "\n",
    "class Car(Vehicle):\n",
    "    def start(self):\n",
    "        return \"Car started\"\n",
    "\n",
    "class Bicycle(Vehicle):\n",
    "    def start(self):\n",
    "        return \"Bicycle started\"\n",
    "    \n",
    "class Boat(Vehicle):\n",
    "    def start(self):\n",
    "        return \"Boat started\"\n",
    "    \n",
    "def start_vehicle(vehicle):\n",
    "    print(vehicle.start())\n",
    "    \n",
    "car = Car()\n",
    "bicycle = Bicycle()\n",
    "boat = Boat()\n",
    "\n",
    "start_vehicle(car) \n",
    "start_vehicle(bicycle)\n",
    "start_vehicle(boat) \n",
    "\n"
   ]
  },
  {
   "cell_type": "raw",
   "id": "edb082e8-6dda-44b9-8fc6-3798cb3a911f",
   "metadata": {},
   "source": [
    "#9. Explain the significance of the `isinstance()` and `issubclass()` functions in Python polymorphism.\n",
    "isinstance() - \n",
    "The isinstance() function is used to check if an object is an instance of a particular class or any of its subclasses. It takes two arguments: the object to be checked and the class (or tuple of classes) to check against.\n",
    "\n",
    "issubclass() - \n",
    "The issubclass() function is used to check if a class is a subclass of another class. It takes two arguments: the class to be checked and the class (or tuple of classes) to check against.\n"
   ]
  },
  {
   "cell_type": "raw",
   "id": "2ca1a229-22fd-498c-bf6a-ec2ac9a63232",
   "metadata": {},
   "source": [
    "# 10. What is the role of the `@abstractmethod` decorator in achieving polymorphism in Python? Provide anexample.\n",
    "\n",
    "The @abstractmethod decorator, provided by the abc (Abstract Base Classes) module in Python, is used to define abstract methods in abstract classes. Abstract methods are methods that are declared in a superclass but have no implementation. Subclasses are required to override these abstract methods with their own implementations. This mechanism ensures that subclasses provide specific behavior, enabling polymorphism."
   ]
  },
  {
   "cell_type": "code",
   "execution_count": 12,
   "id": "ae556225-11da-4a7f-8c40-a019a54702d3",
   "metadata": {},
   "outputs": [
    {
     "name": "stdout",
     "output_type": "stream",
     "text": [
      "Area: 50.24\n",
      "Area: 25\n",
      "Area: 25.0\n"
     ]
    }
   ],
   "source": [
    "from abc import ABC, abstractmethod\n",
    "\n",
    "class Shape(ABC):\n",
    "    @abstractmethod\n",
    "    def area(self):\n",
    "        pass\n",
    "class Circle(Shape):\n",
    "    def __init__(self, radius):\n",
    "        self.radius = radius\n",
    "\n",
    "    def area(self):\n",
    "        return 3.14 * (self.radius ** 2)\n",
    "\n",
    "class Square(Shape):\n",
    "    def __init__(self, side_length):\n",
    "        self.side_length = side_length\n",
    "\n",
    "    def area(self):\n",
    "        return self.side_length ** 2\n",
    "\n",
    "class Triangle(Shape):\n",
    "    def __init__(self, base, height):\n",
    "        self.base = base\n",
    "        self.height = height\n",
    "\n",
    "    def area(self):\n",
    "        return 0.5 * self.base * self.height\n",
    "def calculate_area(shape):\n",
    "    print(\"Area:\", shape.area())\n",
    "circle = Circle(4)\n",
    "square = Square(5)\n",
    "triangle = Triangle(5, 10)\n",
    "calculate_area(circle)    \n",
    "calculate_area(square)   \n",
    "calculate_area(triangle)  "
   ]
  },
  {
   "cell_type": "code",
   "execution_count": 13,
   "id": "d389bc81-6bcd-4f6a-be2d-5ce51a984e4f",
   "metadata": {},
   "outputs": [
    {
     "name": "stdout",
     "output_type": "stream",
     "text": [
      "Area of Circle: 50.24\n",
      "Area of Square: 25\n",
      "Area of Triangle: 25.0\n"
     ]
    }
   ],
   "source": [
    "#11. Create a Python class called `Shape` with a polymorphic method `area()` that calculates the area of different shapes (e.g., circle, rectangle, triangle).\n",
    "\n",
    "\n",
    "class Shape:\n",
    "    def area(self):\n",
    "        pass\n",
    "\n",
    "\n",
    "class Circle(Shape):\n",
    "    def __init__(self, radius):\n",
    "        self.radius = radius\n",
    "\n",
    "    def area(self):\n",
    "        return 3.14 * (self.radius ** 2)\n",
    "\n",
    "\n",
    "class Square(Shape):\n",
    "    def __init__(self, side_length):\n",
    "        self.side_length = side_length\n",
    "\n",
    "    def area(self):\n",
    "        return self.side_length ** 2\n",
    "\n",
    "\n",
    "class Triangle(Shape):\n",
    "    def __init__(self, base, height):\n",
    "        self.base = base\n",
    "        self.height = height\n",
    "\n",
    "    def area(self):\n",
    "        return 0.5 * self.base * self.height\n",
    "\n",
    "\n",
    "circle = Circle(4)\n",
    "square = Square(5)\n",
    "triangle = Triangle(5, 10)\n",
    "\n",
    "print(\"Area of Circle:\", circle.area())  \n",
    "print(\"Area of Square:\", square.area()) \n",
    "print(\"Area of Triangle:\", triangle.area())  "
   ]
  },
  {
   "cell_type": "raw",
   "id": "17c0790e-8d30-4c0b-b87a-70e521fed6b2",
   "metadata": {},
   "source": [
    "#12. Discuss the benefits of polymorphism in terms of code reusability and flexibility in Python programs.\n",
    "\n",
    "Reusable Code: Polymorphism allows you to define a common interface (e.g., method name) in a superclass and provide different implementations of that interface in its subclasses. This promotes code reuse by enabling the same code to be applied to different objects, regardless of their specific types.\n",
    "\n",
    "Flexibility: Polymorphism makes your code more flexible and adaptable to changes. New subclasses can be easily added to the hierarchy without modifying existing code. This promotes the open-closed principle of object-oriented design, where classes are open for extension but closed for modification."
   ]
  },
  {
   "cell_type": "raw",
   "id": "9f0b3b41-6b38-4b10-bc79-e60ea03c2401",
   "metadata": {},
   "source": [
    "# 13. Explain the use of the `super()` function in Python polymorphism. How does it help call methods of parent classes?\n",
    "\n",
    "In Python, the super() function is used to access methods and properties of a parent or superclass within a subclass. It is particularly useful in the context of polymorphism because it allows subclasses to extend or override behavior defined in their superclass while still retaining the functionality of the superclass.\n",
    "\n",
    "Using super() to Call Parent Class Methods:\n",
    "Calling Parent Class Constructor: You can use super() to call the constructor of the parent class from the subclass's constructor. This is often used to initialize attributes defined in the parent class.\n",
    "\n",
    "Calling Parent Class Methods: You can also use super() to call methods of the parent class from within a subclass method. This is useful when you want to extend the behavior of the parent class method in the subclass while still retaining the original functionality."
   ]
  },
  {
   "cell_type": "code",
   "execution_count": 16,
   "id": "c971c297-a967-48cb-ad61-41b74d894c66",
   "metadata": {},
   "outputs": [
    {
     "name": "stdout",
     "output_type": "stream",
     "text": [
      "Name: Alice\n",
      "Name: Bob\n",
      "Age: 25\n"
     ]
    }
   ],
   "source": [
    "class Parent:\n",
    "    def __init__(self, name):\n",
    "        self.name = name\n",
    "\n",
    "    def display(self):\n",
    "        print(\"Name:\", self.name)\n",
    "\n",
    "class Child(Parent):\n",
    "    def __init__(self, name, age):\n",
    "        super().__init__(name)  \n",
    "        self.age = age\n",
    "\n",
    "    def display(self):\n",
    "        super().display() \n",
    "        print(\"Age:\", self.age)\n",
    "\n",
    "\n",
    "parent = Parent(\"Alice\")\n",
    "child = Child(\"Bob\", 25)\n",
    "\n",
    "parent.display()  \n",
    "child.display()  "
   ]
  },
  {
   "cell_type": "raw",
   "id": "dca3a444-7438-40a8-a8bc-ba22046e1f14",
   "metadata": {},
   "source": [
    "14. Create a Python class hierarchy for a banking system with various account types (e.g., savings, checking, credit card) and demonstrate polymorphism by implementing a common `withdraw()` method.\n"
   ]
  },
  {
   "cell_type": "code",
   "execution_count": 17,
   "id": "c3435699-c04a-4f76-8e6e-0ed72292438d",
   "metadata": {},
   "outputs": [
    {
     "name": "stdout",
     "output_type": "stream",
     "text": [
      "Withdrawn 200. Remaining balance: 800\n",
      "Withdrawn 2500. Remaining balance: -500\n",
      "Withdrawn 3500. Remaining balance: -500\n"
     ]
    }
   ],
   "source": [
    "class Account:\n",
    "    def __init__(self, account_number, balance):\n",
    "        self.account_number = account_number\n",
    "        self.balance = balance\n",
    "\n",
    "    def withdraw(self, amount):\n",
    "        if amount > self.balance:\n",
    "            print(\"Insufficient funds\")\n",
    "        else:\n",
    "            self.balance -= amount\n",
    "            print(f\"Withdrawn {amount}. Remaining balance: {self.balance}\")\n",
    "\n",
    "class SavingsAccount(Account):\n",
    "    def __init__(self, account_number, balance, interest_rate):\n",
    "        super().__init__(account_number, balance)\n",
    "        self.interest_rate = interest_rate\n",
    "\n",
    "    def withdraw(self, amount):\n",
    "        super().withdraw(amount)\n",
    "        self.balance -= 0.05 * amount \n",
    "\n",
    "class CheckingAccount(Account):\n",
    "    def __init__(self, account_number, balance, overdraft_limit):\n",
    "        super().__init__(account_number, balance)\n",
    "        self.overdraft_limit = overdraft_limit\n",
    "\n",
    "    def withdraw(self, amount):\n",
    "        if amount > self.balance + self.overdraft_limit:\n",
    "            print(\"Withdrawal amount exceeds overdraft limit\")\n",
    "        else:\n",
    "            self.balance -= amount\n",
    "            print(f\"Withdrawn {amount}. Remaining balance: {self.balance}\")\n",
    "\n",
    "class CreditCardAccount(Account):\n",
    "    def __init__(self, account_number, balance, credit_limit):\n",
    "        super().__init__(account_number, balance)\n",
    "        self.credit_limit = credit_limit\n",
    "\n",
    "    def withdraw(self, amount):\n",
    "        if amount > self.balance + self.credit_limit:\n",
    "            print(\"Withdrawal amount exceeds credit limit\")\n",
    "        else:\n",
    "            self.balance -= amount\n",
    "            print(f\"Withdrawn {amount}. Remaining balance: {self.balance}\")\n",
    "\n",
    "\n",
    "\n",
    "savings_account = SavingsAccount(\"SAV123\", 1000, 0.05)\n",
    "checking_account = CheckingAccount(\"CHK456\", 2000, 500)\n",
    "credit_card_account = CreditCardAccount(\"CC789\", 3000, 2000)\n",
    "\n",
    "savings_account.withdraw(200)    \n",
    "checking_account.withdraw(2500) \n",
    "credit_card_account.withdraw(3500)\n",
    "\n"
   ]
  },
  {
   "cell_type": "raw",
   "id": "12aed43c-5c4c-42d7-8ed2-35cc331b4a00",
   "metadata": {},
   "source": [
    "#15. Describe the concept of operator overloading in Python and how it relates to polymorphism. Provide examples using operators like `+` and `*`.\n",
    "\n",
    "Operator overloading in Python refers to the ability to redefine the behavior of built-in operators (+, -, *, /, etc.) for user-defined classes. It allows objects of a class to behave like built-in types and perform operations using standard arithmetic or comparison operators. This feature enables you to define custom behavior for operators based on the context of your objects.\n"
   ]
  },
  {
   "cell_type": "code",
   "execution_count": 22,
   "id": "c406b9a2-690e-40dd-8fb7-32485029502e",
   "metadata": {},
   "outputs": [
    {
     "name": "stdout",
     "output_type": "stream",
     "text": [
      "Result of addition: (4, 6)\n"
     ]
    }
   ],
   "source": [
    "class Point:\n",
    "    def __init__(self, x, y):\n",
    "        self.x = x\n",
    "        self.y = y\n",
    "\n",
    "    def __add__(self, other):\n",
    "        return Point(self.x + other.x, self.y + other.y)\n",
    "\n",
    "p1 = Point(1, 2)\n",
    "p2 = Point(3, 4)\n",
    "p3 = p1 + p2\n",
    "print(\"Result of addition:\", (p3.x, p3.y))  \n"
   ]
  },
  {
   "cell_type": "code",
   "execution_count": 24,
   "id": "e8c94869-4047-438e-a718-151154654052",
   "metadata": {},
   "outputs": [
    {
     "name": "stdout",
     "output_type": "stream",
     "text": [
      "Result of multiplication: (4, 6)\n"
     ]
    }
   ],
   "source": [
    "class Vector:\n",
    "    def __init__(self, x, y):\n",
    "        self.x = x\n",
    "        self.y = y\n",
    "    def __mul__(self, scalar):\n",
    "        return Vector(self.x * scalar, self.y * scalar)\n",
    "\n",
    "v1 = Vector(2, 3)\n",
    "scalar = 2\n",
    "v2 = v1 * scalar\n",
    "print(\"Result of multiplication:\", (v2.x, v2.y))  \n"
   ]
  },
  {
   "cell_type": "raw",
   "id": "f179ee72-14e4-4a8b-944e-71a803754b19",
   "metadata": {},
   "source": [
    "#16. What is dynamic polymorphism, and how is it achieved in Python?\n",
    "\n",
    "Dynamic polymorphism, also known as runtime polymorphism, is a fundamental concept in object-oriented programming where the actual method or operation to be performed is determined at runtime based on the object's type. It allows different types of objects to be treated uniformly through a common interface, enabling flexibility and extensibility in the code.\n",
    "\n",
    "dynamic polymorphism is achieved primarily through method overriding and duck typing:\n",
    "\n",
    "Method Overriding: Subclasses can provide their own implementation of methods defined in their superclass. When a method is called on an object, the Python interpreter dynamically resolves which implementation of the method to invoke based on the actual type of the object at runtime.\n",
    "\n",
    "Duck Typing: Instead of relying on strict inheritance relationships, Python supports duck typing, which means that the suitability of an object for a particular operation is determined by the presence of certain methods or properties rather than its type. If an object behaves like a duck (i.e., it quacks like a duck), then it is treated as a duck. This promotes dynamic polymorphism by allowing objects of different types to be used interchangeably if they support a common interface."
   ]
  },
  {
   "cell_type": "raw",
   "id": "6a798c63-c884-4391-a8ae-dd92a0a6e6ad",
   "metadata": {},
   "source": [
    "17. Create a Python class hierarchy for employees in a company (e.g., manager, developer, designer) and implement polymorphism through a common `calculate_salary()` method.\n"
   ]
  },
  {
   "cell_type": "code",
   "execution_count": null,
   "id": "976abe91-e858-4a4c-8d18-48a7b203e022",
   "metadata": {},
   "outputs": [
    {
     "name": "stdout",
     "output_type": "stream",
     "text": [
      "Manager's Salary: 5000\n",
      "Developer's Salary: 8000\n",
      "Designer's Salary: 5000\n"
     ]
    }
   ],
   "source": [
    "class Employee:\n",
    "    def __init__(self, name, role):\n",
    "        self.name = name\n",
    "        self.role = role\n",
    "\n",
    "    def calculate_salary(self):\n",
    "        pass\n",
    "        \n",
    "class Manager(Employee):\n",
    "    def __init__(self, name, salary):\n",
    "        super().__init__(name, \"Manager\")\n",
    "        self.salary = salary\n",
    "\n",
    "    def calculate_salary(self):\n",
    "        return self.salary\n",
    "\n",
    "class Developer(Employee):\n",
    "    def __init__(self, name, hourly_rate, hours_worked):\n",
    "        super().__init__(name, \"Developer\")\n",
    "        self.hourly_rate = hourly_rate\n",
    "        self.hours_worked = hours_worked\n",
    "\n",
    "    def calculate_salary(self):\n",
    "        return self.hourly_rate * self.hours_worked\n",
    "\n",
    "class Designer(Employee):\n",
    "    def __init__(self, name, projects_completed, project_bonus):\n",
    "        super().__init__(name, \"Designer\")\n",
    "        self.projects_completed = projects_completed\n",
    "        self.project_bonus = project_bonus\n",
    "\n",
    "    def calculate_salary(self):\n",
    "        return self.projects_completed * self.project_bonus\n",
    "\n",
    "\n",
    "manager = Manager(\"Alice\", 5000)\n",
    "developer = Developer(\"Bob\", 50, 160)\n",
    "designer = Designer(\"Charlie\", 5, 1000)\n",
    "\n",
    "print(\"Manager's Salary:\", manager.calculate_salary())    \n",
    "print(\"Developer's Salary:\", developer.calculate_salary())  \n",
    "print(\"Designer's Salary:\", designer.calculate_salary())  \n"
   ]
  },
  {
   "cell_type": "raw",
   "id": "583b178e-6eb4-4c4c-bf31-62f5c3edb094",
   "metadata": {},
   "source": [
    "18. Discuss the concept of function pointers and how they can be used to achieve polymorphism in Python.\n",
    "\n",
    "Function pointers can be used to achieve polymorphism in Python by allowing different functions to be called based on the context or the type of data being processed. This is similar to method overriding in object-oriented programming but applies to functions instead of methods within classes.\n",
    "\n",
    "function pointers can be used to achieve polymorphism in Python as below:\n",
    "\n",
    "Define a Common Interface: Define a set of functions with a common interface (e.g., same name and parameter list) that perform similar tasks but with different implementations.\n",
    "\n",
    "Pass Function Pointers: Pass function pointers (references to functions) as arguments to other functions or methods. This allows you to call different functions based on the actual function passed as an argument.\n",
    "\n",
    "Dynamic Dispatch: Use dynamic dispatch to determine which function to call based on the actual type or context of the data being processed"
   ]
  },
  {
   "cell_type": "raw",
   "id": "08a3ea9a-bd2e-4016-bcc1-737a12f9f805",
   "metadata": {},
   "source": [
    "#19. Explain the role of interfaces and abstract classes in polymorphism, drawing comparisons between them.\n",
    "\n",
    "Interfaces:\n",
    "Definition: An interface defines a contract specifying a set of methods that a class must implement. It only contains method signatures without any implementation details.\n",
    "Purpose: Interfaces provide a way to define a common behavior that multiple classes can adhere to. They establish a contract that ensures classes implementing the interface will provide specific functionalities.\n",
    "Implementation: In Python, interfaces are not explicitly defined as they are in some other programming languages like Java or C#. Instead, interfaces are implicit, and any class that implements the methods specified by the interface is considered to satisfy the interface contract.\n",
    "Multiple Inheritance: Python does not have native support for interfaces, but multiple inheritance can be used to achieve similar functionality. A class can inherit from multiple classes, each providing a different set of methods, effectively behaving like interfaces.\n",
    "\n",
    "\n",
    "Abstract Classes:\n",
    "Definition: An abstract class is a class that cannot be instantiated on its own and contains one or more abstract methods, which are declared but not implemented. Abstract classes may also contain concrete methods with implementations.\n",
    "Purpose: Abstract classes provide a way to define common behavior and structure for a group of related classes. They serve as a blueprint for subclasses to follow and enforce certain methods to be implemented by subclasses.\n",
    "Implementation: Abstract classes are explicitly defined using the abc module in Python. Abstract methods are declared using the @abstractmethod decorator, and any class inheriting from an abstract class must implement all abstract methods.\n",
    "Single Inheritance: Python supports single inheritance for classes, meaning a subclass can inherit from only one superclass. Abstract classes can be used to define a common interface for subclasses to adhere to, ensuring consistency in method implementations.\n",
    "\n",
    "\n",
    "Comparisons:\n",
    "Nature: Interfaces are more about defining a contract or behavior that classes should adhere to, while abstract classes are about providing a partial implementation along with requirements for subclasses.\n",
    "Instantiation: Interfaces cannot be instantiated, while abstract classes cannot be instantiated directly but can be subclassed.\n",
    "Method Implementation: Interfaces do not provide any method implementations, while abstract classes can contain both abstract and concrete methods.\n",
    "Flexibility: Interfaces provide more flexibility as a class can implement multiple interfaces, whereas a class can inherit from only one abstract class in Python.\n",
    "Use Cases: Interfaces are useful when you want to define a common behavior without any implementation details, while abstract classes are useful when you want to provide a base implementation along with requirements for subclasses."
   ]
  },
  {
   "cell_type": "raw",
   "id": "8de2a55e-c6ad-4455-9319-109f20988cbf",
   "metadata": {},
   "source": [
    "#20. Create a Python class for a zoo simulation, demonstrating polymorphism with different animal types (e.g., mammals, birds, reptiles) and their behavior (e.g., eating, sleeping, making sounds)."
   ]
  },
  {
   "cell_type": "code",
   "execution_count": 26,
   "id": "7a7c0045-ae9a-4185-8824-e8a6419b8911",
   "metadata": {},
   "outputs": [
    {
     "name": "stdout",
     "output_type": "stream",
     "text": [
      "eating\n",
      "making sounds\n",
      "sleeping\n"
     ]
    }
   ],
   "source": [
    "class Zoo:\n",
    "    def behavior(self):\n",
    "        pass\n",
    "\n",
    "class Mammals(Zoo):\n",
    "    def behavior(self):\n",
    "        return \"eating\"\n",
    "\n",
    "class Birds(Zoo):\n",
    "    def behavior(self):\n",
    "        return \"making sounds\"\n",
    "    \n",
    "class Reptiles(Zoo):\n",
    "    def behavior(self):\n",
    "        return \"sleeping\"\n",
    "    \n",
    "def animal_behavior(zoo):\n",
    "    print(zoo.behavior())\n",
    "    \n",
    "mammals = Mammals()\n",
    "birds = Birds()\n",
    "reptiles = Reptiles()\n",
    "\n",
    "animal_behavior(mammals) \n",
    "animal_behavior(birds)\n",
    "animal_behavior(reptiles) \n"
   ]
  },
  {
   "cell_type": "code",
   "execution_count": null,
   "id": "565213ed-4277-48c2-ac20-8f19cd03e169",
   "metadata": {},
   "outputs": [],
   "source": []
  },
  {
   "cell_type": "raw",
   "id": "12bfdd7e-56e9-4558-9227-6a981367cdf8",
   "metadata": {},
   "source": [
    "Abstraction:"
   ]
  },
  {
   "cell_type": "code",
   "execution_count": null,
   "id": "edf93394-e3bb-465d-b83a-329f43c181f3",
   "metadata": {},
   "outputs": [],
   "source": []
  },
  {
   "cell_type": "raw",
   "id": "020691f8-7f2e-4edf-9897-8aa59a299ae9",
   "metadata": {},
   "source": [
    "1. What is abstraction in Python, and how does it relate to object-oriented programming?\n",
    "\n",
    "Abstraction is a fundamental concept in object-oriented programming (OOP) that involves hiding the complex implementation details of a class and showing only the necessary features of the object. Abstraction allows programmers to focus on what an object does rather than how it does it.\n",
    "Abstraction is typically achieved through the use of classes and objects. A class is a blueprint for creating objects, and it defines properties (attributes) and behaviors (methods) that objects of that class can exhibit. Abstraction allows us to define these properties and behaviors at a high level without needing to know the intricate details of how they are implemented."
   ]
  },
  {
   "cell_type": "raw",
   "id": "a30c9bc7-129b-4ec5-806c-899e58d70ca8",
   "metadata": {},
   "source": [
    "#2. Describe the benefits of abstraction in terms of code organization and complexity reduction.\n",
    "\n",
    "Abstraction plays a crucial role in code organization and complexity reduction by promoting modularity, encapsulation, reduced complexity, code reusability, and scalability. It helps in managing the complexity of software systems and makes them easier to understand, maintain, and extend.\n",
    "\n",
    "Modularity: Abstraction allows breaking down a complex system into smaller, more manageable modules. Each module can represent a distinct functionality or concept, making it easier to understand and maintain. By encapsulating details within each module, abstraction promotes a modular design, which facilitates code organization and promotes code reusability.\n",
    "\n",
    "Encapsulation: Abstraction enables encapsulation, which means bundling data and methods that operate on that data within a single unit (i.e., a class). This helps in hiding the internal implementation details of a class from the outside world, allowing users of the class to interact with it through a well-defined interface. Encapsulation prevents unintended modification of data and ensures that changes to the internal implementation do not affect the external usage of the class.\n",
    "\n",
    "Reduced Complexity: Abstraction allows developers to work with high-level concepts and models rather than getting bogged down in low-level implementation details. By providing a simplified view of complex systems, abstraction reduces cognitive load and makes code easier to understand. It promotes a focus on what needs to be done (i.e., the \"what\" rather than the \"how\"), which leads to cleaner and more maintainable code.\n",
    "\n",
    "Code Reusability: Abstraction encourages the creation of reusable components by defining clear interfaces and separating concerns. Once an abstraction is created for a particular functionality or concept, it can be reused across different parts of the codebase or even in different projects. This promotes code reusability and reduces duplication, leading to more efficient development and easier maintenance.\n",
    "\n",
    "Scalability: Abstraction facilitates scalability by allowing developers to extend and modify the system without affecting its overall structure. New features can be added by creating new abstractions or extending existing ones, without the need to modify the existing codebase extensively. This enables the codebase to grow and evolve over time while maintaining its integrity and organization."
   ]
  },
  {
   "cell_type": "code",
   "execution_count": 11,
   "id": "5fceeab8-03bf-4339-aaf7-dc55e8eb0181",
   "metadata": {},
   "outputs": [
    {
     "name": "stdout",
     "output_type": "stream",
     "text": [
      "Area of circle =  50.24\n",
      "Area of Rectangle =  10\n"
     ]
    }
   ],
   "source": [
    "#3. Create a Python class called `Shape` with an abstract method `calculate_area()`. Then, create child classes (e.g., `Circle`, `Rectangle`) that implement the `calculate_area()` method. Provide an example of  using these classes.\n",
    "\n",
    "\n",
    "from abc import ABC, abstractmethod\n",
    "\n",
    "class Shape(ABC):\n",
    "    @abstractmethod\n",
    "    def calculate_area(self):\n",
    "        pass\n",
    "    \n",
    "class Circle(Shape):\n",
    "    def __init__(self, radius):\n",
    "        self.radius = radius\n",
    "    \n",
    "    def calculate_area(self):\n",
    "        print('Area of circle = ', (3.14*(self.radius ** 2)))\n",
    "\n",
    "class Rectangle(Shape):\n",
    "    def __init__(self, length, breadth):\n",
    "        self.length = length\n",
    "        self.breadth = breadth\n",
    "    \n",
    "    def calculate_area(self):\n",
    "        print('Area of Rectangle = ', self.breadth * self.length)\n",
    "\n",
    "circle = Circle(4)\n",
    "rectangle = Rectangle(2,5)\n",
    "\n",
    "circle.calculate_area()\n",
    "rectangle.calculate_area()\n"
   ]
  },
  {
   "cell_type": "raw",
   "id": "662ae1bf-fa7a-4aec-93bf-00fc72f5614c",
   "metadata": {},
   "source": [
    "4. Explain the concept of abstract classes in Python and how they are defined using the `abc` module. Provide an example.\n",
    "\n",
    "abstract classes are classes that cannot be instantiated directly. They are meant to serve as base classes for other classes and typically contain one or more abstract methods. Abstract methods are declared in the abstract class but are not implemented. Instead, they must be implemented by concrete subclasses."
   ]
  },
  {
   "cell_type": "code",
   "execution_count": 15,
   "id": "0a4d300d-1c58-48be-a1c9-1c7af7c20255",
   "metadata": {},
   "outputs": [
    {
     "name": "stdout",
     "output_type": "stream",
     "text": [
      "Area of circle =  50.24\n",
      "Area of Rectangle =  10\n"
     ]
    }
   ],
   "source": [
    "\n",
    "\n",
    "from abc import ABC, abstractmethod\n",
    "\n",
    "class Shape(ABC): #Abstarct class\n",
    "    @abstractmethod\n",
    "    def calculate_area(self): # Abstract method\n",
    "        pass\n",
    "    \n",
    "class Circle(Shape):\n",
    "    def __init__(self, radius):\n",
    "        self.radius = radius\n",
    "    \n",
    "    def calculate_area(self):\n",
    "        print('Area of circle = ', (3.14*(self.radius ** 2)))\n",
    "\n",
    "class Rectangle(Shape):\n",
    "    def __init__(self, length, breadth):\n",
    "        self.length = length\n",
    "        self.breadth = breadth\n",
    "    \n",
    "    def calculate_area(self):\n",
    "        print('Area of Rectangle = ', self.breadth * self.length)\n",
    "\n",
    "circle = Circle(4)\n",
    "rectangle = Rectangle(2,5)\n",
    "\n",
    "circle.calculate_area()\n",
    "rectangle.calculate_area()"
   ]
  },
  {
   "cell_type": "raw",
   "id": "58d0dd4f-1df2-4c5f-ad33-aa3ffa5d1c22",
   "metadata": {},
   "source": [
    "#5. How do abstract classes differ from regular classes in Python? Discuss their use cases.\n",
    "\n",
    "Abstract classes differ from regular classes in Python primarily in their purpose and functionality:\n",
    "\n",
    "Instantiation: Abstract classes cannot be instantiated directly. Attempting to create an instance of an abstract class will result in a TypeError. Regular classes, on the other hand, can be instantiated normally.\n",
    "\n",
    "Abstract Methods: Abstract classes may contain one or more abstract methods. These methods are declared but not implemented in the abstract class itself. Concrete subclasses of an abstract class must implement all abstract methods. Regular classes, on the other hand, do not necessarily contain abstract methods.\n",
    "\n",
    "Inheritance: Abstract classes are often used as base classes from which other classes inherit. Concrete subclasses inherit the structure and behavior (including abstract methods) defined in the abstract class. Regular classes can inherit from other classes as well but may not necessarily have to implement specific methods.\n",
    "\n",
    "Purpose: Abstract classes are designed to serve as blueprints or templates for other classes. They define a common interface or behavior that concrete subclasses must adhere to. Regular classes, on the other hand, are used to create objects with specific attributes and methods without enforcing any specific requirements on subclasses.\n",
    "\n",
    "Use cases for abstract classes:\n",
    "\n",
    "Defining a Common Interface: Abstract classes are useful when you want to define a common interface that multiple subclasses must implement. For example, in a geometric shapes hierarchy, you might define an abstract class Shape with abstract methods like calculate_area() and calculate_perimeter(). Concrete subclasses like Circle, Rectangle, etc., would then implement these methods according to their specific shapes.\n",
    "\n",
    "Enforcing Structure: Abstract classes help enforce a certain structure or behavior among subclasses. By defining abstract methods, you ensure that any subclass must implement these methods, providing a clear contract for how subclasses should behave.\n",
    "\n",
    "Promoting Code Reusability: Abstract classes promote code reusability by providing a common base implementation that can be shared among multiple subclasses. This can help in reducing code duplication and ensuring consistency across related classes.\n",
    "\n",
    "API Design: Abstract classes are useful for designing APIs (Application Programming Interfaces) where you want to define a set of methods that must be implemented by clients of the API. This ensures that client code adheres to a specific contract, making it more robust and predictable."
   ]
  },
  {
   "cell_type": "code",
   "execution_count": 69,
   "id": "fe6115ea-8f53-46c0-96b2-46d10337821e",
   "metadata": {},
   "outputs": [
    {
     "name": "stdout",
     "output_type": "stream",
     "text": [
      "Deposit success. Balance =  10000\n",
      "Withdrawal success. Balance =  9500\n"
     ]
    }
   ],
   "source": [
    "#6. Create a Python class for a bank account and demonstrate abstraction by hiding the account balance and providing methods to deposit and withdraw funds.\n",
    "\n",
    "from abc import ABC, abstractmethod\n",
    "\n",
    "class Bank_account(ABC):\n",
    "    balance = 0  # Class attribute shared among all instances\n",
    "\n",
    "    @abstractmethod\n",
    "    def perform_transaction(self, amount):\n",
    "        pass\n",
    "\n",
    "class Deposit(Bank_account):\n",
    "    def perform_transaction(self, amount):\n",
    "        if amount > 0:\n",
    "            Bank_account.balance += amount\n",
    "            print('Deposit success. Balance = ', Bank_account.balance)\n",
    "        else:\n",
    "            print('Invalid transaction')\n",
    "\n",
    "class Withdrawal(Bank_account):\n",
    "    def perform_transaction(self, amount):\n",
    "        if 0 < amount <= Bank_account.balance:\n",
    "            Bank_account.balance -= amount\n",
    "            print('Withdrawal success. Balance = ', Bank_account.balance)\n",
    "        else:\n",
    "            print('Invalid transaction or insufficient funds')\n",
    "\n",
    "deposit = Deposit()\n",
    "withdrawal = Withdrawal()\n",
    "\n",
    "deposit.perform_transaction(10000) \n",
    "withdrawal.perform_transaction(500) \n"
   ]
  },
  {
   "cell_type": "raw",
   "id": "8d5e83cd-78c5-45e7-8eb3-f6823e80e9d1",
   "metadata": {},
   "source": [
    "#7. Discuss the concept of interface classes in Python and their role in achieving abstraction.\n",
    "\n",
    "\n",
    "Interface classes are a way to define a blueprint or contract for how a group of classes should behave, without providing implementation details. They serve as a guide for classes that implement them, ensuring that those classes provide specific methods or properties. The key role of interface classes is to achieve abstraction by allowing classes to interact with each other through well-defined interfaces, rather than relying on concrete implementations."
   ]
  },
  {
   "cell_type": "code",
   "execution_count": 7,
   "id": "84a46455-1ebb-4eca-905f-9c6088771db5",
   "metadata": {},
   "outputs": [
    {
     "name": "stdout",
     "output_type": "stream",
     "text": [
      "Buddy is eating.\n",
      "Buddy is sleeping.\n",
      "Buddy is barking.\n",
      "bili is eating.\n",
      "bili is sleeping.\n",
      "bili is meowing.\n"
     ]
    }
   ],
   "source": [
    "#8. Create a Python class hierarchy for animals and implement abstraction by defining common methods (e.g., `eat()`, `sleep()`) in an abstract base class.\n",
    "\n",
    "from abc import ABC, abstractmethod\n",
    "\n",
    "class Animal(ABC):\n",
    "    def __init__(self, name):\n",
    "        self.name = name\n",
    "    \n",
    "    @abstractmethod\n",
    "    def eat(self):\n",
    "        pass\n",
    "    \n",
    "    @abstractmethod\n",
    "    def sleep(self):\n",
    "        pass\n",
    "    \n",
    "class Mammal(Animal):\n",
    "    def __init__(self, name):\n",
    "        super().__init__(name)\n",
    "    \n",
    "    def eat(self):\n",
    "        print(f\"{self.name} is eating.\")\n",
    "    \n",
    "    def sleep(self):\n",
    "        print(f\"{self.name} is sleeping.\")\n",
    "\n",
    "class Dog(Mammal):\n",
    "    def __init__(self, name):\n",
    "        super().__init__(name)\n",
    "    \n",
    "    def bark(self):\n",
    "        print(f\"{self.name} is barking.\")\n",
    "\n",
    "class Cat(Mammal):\n",
    "    def __init__(self, name):\n",
    "        super().__init__(name)\n",
    "    \n",
    "    def meow(self):\n",
    "        print(f\"{self.name} is meowing.\")\n",
    "        \n",
    "dog = Dog(\"Buddy\")\n",
    "dog.eat()  # Output: Buddy is eating.\n",
    "dog.sleep()  # Output: Buddy is sleeping.\n",
    "dog.bark()  # Output: Buddy is barking.\n",
    "\n",
    "cat = Cat(\"bili\")\n",
    "cat.eat()  # Output: Buddy is eating.\n",
    "cat.sleep()  # Output: Buddy is sleeping.\n",
    "cat.meow()  # Output: Buddy is barking.\n"
   ]
  },
  {
   "cell_type": "raw",
   "id": "cbcb9cab-6439-4894-bb34-91b8d3fb04db",
   "metadata": {},
   "source": [
    "#9. Explain the significance of encapsulation in achieving abstraction. Provide examples.\n",
    "\n",
    "Encapsulation is a fundamental concept in object-oriented programming (OOP) that involves bundling data (attributes) and methods (functions) that operate on the data into a single unit called a class. Encapsulation enables data hiding, meaning that the internal state of an object is hidden from the outside world, and only accessible through well-defined interfaces provided by the class. This facilitates abstraction by allowing objects to exhibit behavior without exposing their internal details, thus simplifying their usage and promoting modularity, flexibility, and maintainability."
   ]
  },
  {
   "cell_type": "raw",
   "id": "18176f41-b38b-42bb-bdd9-c33d273148c3",
   "metadata": {},
   "source": [
    "#10. What is the purpose of abstract methods, and how do they enforce abstraction in Python classes?\n",
    "\n",
    "Abstract methods serve as placeholders within a class definition. They are defined in the base class but have no implementation. Instead, their purpose is to define a method signature that must be implemented by any subclass.\n",
    "\n",
    "The primary purpose of abstract methods is to enforce a contract on subclasses, ensuring that they provide a specific behavior. This promotes consistency and ensures that subclasses adhere to a common interface.\n",
    "\n",
    "In Python, abstract methods are typically defined using the @abstractmethod decorator from the abc (Abstract Base Classes) module. This decorator marks a method as abstract, indicating that it must be implemented by subclasses.\n",
    "\n"
   ]
  },
  {
   "cell_type": "code",
   "execution_count": 1,
   "id": "60332f9d-cc26-4d03-a37f-5456dc09e653",
   "metadata": {},
   "outputs": [
    {
     "name": "stdout",
     "output_type": "stream",
     "text": [
      "Red Toyota car starts.\n",
      "Red Toyota car stops.\n",
      "Blue Honda bike starts.\n",
      "Blue Honda bike stops.\n",
      "Yellow Volvo truck starts.\n",
      "Yellow Volvo truck stops.\n"
     ]
    }
   ],
   "source": [
    "#11. Create a Python class for a vehicle system and demonstrate abstraction by defining common methods (e.g., `start()`, `stop()`) in an abstract base class.\n",
    "\n",
    "from abc import ABC, abstractmethod\n",
    "\n",
    "class Vehicle(ABC):\n",
    "    def __init__(self, name, color):\n",
    "        self.name = name\n",
    "        self.color = color\n",
    "    \n",
    "    @abstractmethod\n",
    "    def start(self):\n",
    "        pass\n",
    "    \n",
    "    @abstractmethod\n",
    "    def stop(self):\n",
    "        pass\n",
    "\n",
    "class Car(Vehicle):\n",
    "    def start(self):\n",
    "        print(f\"{self.color} {self.name} car starts.\")\n",
    "\n",
    "    def stop(self):\n",
    "        print(f\"{self.color} {self.name} car stops.\")\n",
    "\n",
    "class Bike(Vehicle):\n",
    "    def start(self):\n",
    "        print(f\"{self.color} {self.name} bike starts.\")\n",
    "\n",
    "    def stop(self):\n",
    "        print(f\"{self.color} {self.name} bike stops.\")\n",
    "\n",
    "class Truck(Vehicle):\n",
    "    def start(self):\n",
    "        print(f\"{self.color} {self.name} truck starts.\")\n",
    "\n",
    "    def stop(self):\n",
    "        print(f\"{self.color} {self.name} truck stops.\")\n",
    "\n",
    "car = Car(\"Toyota\", \"Red\")\n",
    "car.start()  \n",
    "car.stop()   \n",
    "\n",
    "bike = Bike(\"Honda\", \"Blue\")\n",
    "bike.start()  \n",
    "bike.stop()   \n",
    "\n",
    "truck = Truck(\"Volvo\", \"Yellow\")\n",
    "truck.start()  \n",
    "truck.stop()   \n"
   ]
  },
  {
   "cell_type": "raw",
   "id": "10eabd1c-dba2-4583-b307-992c895d1329",
   "metadata": {},
   "source": [
    "#12. Describe the use of abstract properties in Python and how they can be employed in abstract classes.\n",
    "\n",
    "Abstract properties in Python are properties that are defined in an abstract base class but do not have an implementation. They serve as placeholders for properties that must be implemented by subclasses. Abstract properties are useful when you want to enforce a contract on subclasses to provide specific attributes, but you don't want to specify how those attributes are implemented.\n",
    "\n",
    "To use abstract properties in Python, you need to import the ABC (Abstract Base Class) and abstractmethod decorators from the abc module. Then, you can define abstract properties using the @property decorator along with the @abstractmethod decorator.\n",
    "Here's an example of how abstract properties can be employed in abstract classes:"
   ]
  },
  {
   "cell_type": "code",
   "execution_count": 2,
   "id": "f78b2748-b81a-4a62-8e36-c710c40b0f6c",
   "metadata": {},
   "outputs": [
    {
     "name": "stdout",
     "output_type": "stream",
     "text": [
      "10000\n",
      "8000\n",
      "12000\n"
     ]
    }
   ],
   "source": [
    "#13. Create a Python class hierarchy for employees in a company (e.g., manager, developer, designer) and implement abstraction by defining a common `get_salary()` method.\n",
    "\n",
    "from abc import ABC, abstractmethod\n",
    "\n",
    "class Employee(ABC):\n",
    "    def __init__(self, name, employee_id):\n",
    "        self.name = name\n",
    "        self.employee_id = employee_id\n",
    "    \n",
    "    @abstractmethod\n",
    "    def get_salary(self):\n",
    "        pass\n",
    "\n",
    "class Manager(Employee):\n",
    "    def __init__(self, name, employee_id, salary):\n",
    "        super().__init__(name, employee_id)\n",
    "        self.salary = salary\n",
    "    \n",
    "    def get_salary(self):\n",
    "        return self.salary\n",
    "\n",
    "class Developer(Employee):\n",
    "    def __init__(self, name, employee_id, hourly_rate, hours_worked):\n",
    "        super().__init__(name, employee_id)\n",
    "        self.hourly_rate = hourly_rate\n",
    "        self.hours_worked = hours_worked\n",
    "    \n",
    "    def get_salary(self):\n",
    "        return self.hourly_rate * self.hours_worked\n",
    "\n",
    "class Designer(Employee):\n",
    "    def __init__(self, name, employee_id, monthly_salary):\n",
    "        super().__init__(name, employee_id)\n",
    "        self.monthly_salary = monthly_salary\n",
    "    \n",
    "    def get_salary(self):\n",
    "        return self.monthly_salary\n",
    "\n",
    "# Example usage\n",
    "manager = Manager(\"Alice\", \"M001\", 10000)\n",
    "print(manager.get_salary())  # Output: 10000\n",
    "\n",
    "developer = Developer(\"Bob\", \"D001\", 50, 160)\n",
    "print(developer.get_salary())  # Output: 8000\n",
    "\n",
    "designer = Designer(\"Charlie\", \"DS001\", 12000)\n",
    "print(designer.get_salary())  # Output: 12000\n",
    "\n"
   ]
  },
  {
   "cell_type": "raw",
   "id": "c4a56fc7-5365-4059-b911-0ce5a8c339c7",
   "metadata": {},
   "source": [
    "#14. Discuss the differences between abstract classes and concrete classes in Python, including their instantiation.\n",
    "\n",
    "Abstract Classes:\n",
    "Purpose:\n",
    "\n",
    "Abstract classes are designed to serve as blueprints for other classes. They define methods that must be implemented by their subclasses but do not provide implementations for those methods themselves.\n",
    "Abstract classes are used to enforce a common interface or behavior across multiple subclasses.\n",
    "Instantiation:\n",
    "\n",
    "Abstract classes cannot be instantiated directly. Attempting to create an instance of an abstract class will result in a TypeError.\n",
    "They are meant to be subclassed, and their methods are implemented in the concrete subclasses.\n",
    "Usage:\n",
    "\n",
    "Abstract classes are typically used as base classes in class hierarchies where a common interface is needed, but the specific behavior of each subclass may vary.\n",
    "They provide a way to enforce a contract on subclasses, ensuring that certain methods are implemented.\n",
    "\n",
    "Concrete Classes:\n",
    "Purpose:\n",
    "\n",
    "Concrete classes are fully implemented classes that can be instantiated directly. They provide implementations for all methods defined in their class hierarchy, including any abstract methods inherited from abstract base classes.\n",
    "Instantiation:\n",
    "\n",
    "Concrete classes can be instantiated directly using their constructors. Instances of concrete classes represent real objects in the program.\n",
    "They can be created without any further subclassing or implementation.\n",
    "Usage:\n",
    "\n",
    "Concrete classes are used to represent real-world objects or concepts in the program.\n",
    "They provide specific implementations for methods defined in their class hierarchy, including any inherited abstract methods.\n",
    "\n",
    "Instantiation:\n",
    "Abstract classes cannot be instantiated directly. They are meant to be subclassed, and their methods are implemented in concrete subclasses.\n",
    "Concrete classes can be instantiated directly using their constructors. Instances of concrete classes represent real objects in the program and can be created without any further subclassing or implementation.\n"
   ]
  },
  {
   "cell_type": "raw",
   "id": "8d5487da-f099-46d2-8cb0-be713f34eb3b",
   "metadata": {},
   "source": [
    "#15. Explain the concept of abstract data types (ADTs) and their role in achieving abstraction in Python.\n",
    "\n",
    "Abstract Data Types (ADTs) are a fundamental concept in computer science that describe a mathematical model for representing data and the operations that can be performed on that data, without specifying the implementation details. ADTs provide a high-level view of data structures and their associated operations, focusing on what operations can be performed and what properties they have, rather than how they are implemented.\n",
    "\n",
    "ADTs can be implemented using classes and defining methods that represent the operations associated with the data structure. For example, a stack ADT can be implemented using a Python list and defining methods such as push(), pop(), and peek(). Users of the stack ADT only need to know how to use these methods without needing to understand the underlying implementation.\n",
    "\n",
    "Overall, abstract data types are essential in achieving abstraction in Python and other programming languages, as they provide a way to represent data structures and operations in a clear, modular, and reusable manner, enabling efficient problem-solving and software development."
   ]
  },
  {
   "cell_type": "code",
   "execution_count": 3,
   "id": "b1256c76-a607-4f03-8b6c-92116f619c96",
   "metadata": {},
   "outputs": [
    {
     "name": "stdout",
     "output_type": "stream",
     "text": [
      "Dell Inspiron desktop is powering on.\n",
      "Dell Inspiron desktop is shutting down.\n",
      "HP Pavilion laptop is powering on.\n",
      "HP Pavilion laptop is shutting down.\n"
     ]
    }
   ],
   "source": [
    "#16. Create a Python class for a computer system, demonstrating abstraction by defining common methods (e.g., `power_on()`, `shutdown()`) in an abstract base class.\n",
    "\n",
    "from abc import ABC, abstractmethod\n",
    "\n",
    "class ComputerSystem(ABC):\n",
    "    def __init__(self, brand, model):\n",
    "        self.brand = brand\n",
    "        self.model = model\n",
    "    \n",
    "    @abstractmethod\n",
    "    def power_on(self):\n",
    "        pass\n",
    "    \n",
    "    @abstractmethod\n",
    "    def shutdown(self):\n",
    "        pass\n",
    "\n",
    "class Desktop(ComputerSystem):\n",
    "    def power_on(self):\n",
    "        print(f\"{self.brand} {self.model} desktop is powering on.\")\n",
    "\n",
    "    def shutdown(self):\n",
    "        print(f\"{self.brand} {self.model} desktop is shutting down.\")\n",
    "\n",
    "class Laptop(ComputerSystem):\n",
    "    def power_on(self):\n",
    "        print(f\"{self.brand} {self.model} laptop is powering on.\")\n",
    "\n",
    "    def shutdown(self):\n",
    "        print(f\"{self.brand} {self.model} laptop is shutting down.\")\n",
    "\n",
    "desktop = Desktop(\"Dell\", \"Inspiron\")\n",
    "desktop.power_on() \n",
    "desktop.shutdown()   \n",
    "\n",
    "laptop = Laptop(\"HP\", \"Pavilion\")\n",
    "laptop.power_on()  \n",
    "laptop.shutdown()   \n"
   ]
  },
  {
   "cell_type": "raw",
   "id": "26e1d40e-5a88-40e6-9c92-0ef8cc12f362",
   "metadata": {},
   "source": [
    "#17. Discuss the benefits of using abstraction in large-scale software development projects.\n",
    "\n",
    "Using abstraction in large-scale software development projects offers several benefits that contribute to the efficiency, maintainability, and scalability of the project. Some of the key benefits include:\n",
    "\n",
    "Simplification of Complex Systems: Abstraction allows developers to represent complex systems in a simplified manner by focusing on essential features and hiding unnecessary details. This simplification makes it easier for developers to understand the system's architecture and behavior, leading to faster development and reduced chances of errors.\n",
    "\n",
    "Modularity and Encapsulation: Abstraction promotes modularity by breaking down a system into smaller, manageable components with well-defined interfaces. Each component encapsulates its internal implementation details, which helps in isolating changes and reducing the impact of modifications on other parts of the system. This modular structure also facilitates code reuse and promotes collaboration among team members.\n",
    "\n",
    "Ease of Maintenance and Debugging: Abstraction improves the maintainability of software projects by organizing code into logical units and hiding implementation details. This makes it easier to locate and fix bugs, as developers can focus on specific components without needing to understand the entire system. Additionally, abstraction reduces the risk of introducing new bugs when making changes to the codebase.\n",
    "\n",
    "Flexibility and Adaptability: Abstraction allows developers to design software systems in a flexible and adaptable manner. By defining interfaces and abstracting away implementation details, developers can easily replace or upgrade components without affecting other parts of the system. This facilitates the evolution of the software over time and enables it to meet changing requirements and technological advancements.\n",
    "\n",
    "Scalability and Extensibility: Abstraction supports scalability and extensibility by providing a foundation for adding new features and functionalities to the software system. As the project grows, developers can extend existing abstractions or create new ones to accommodate additional requirements. This allows the system to scale seamlessly without compromising its integrity or performance.\n",
    "\n",
    "Enhanced Collaboration and Communication: Abstraction improves collaboration among team members by providing a common language and framework for discussing and designing software components. Developers can communicate more effectively by referring to high-level abstractions rather than getting bogged down in low-level implementation details. This fosters better teamwork and reduces misunderstandings during the development process."
   ]
  },
  {
   "cell_type": "raw",
   "id": "a518fefc-9540-4827-83ef-bf707269c365",
   "metadata": {},
   "source": [
    "#18. Explain how abstraction enhances code reusability and modularity in Python programs.\n",
    "\n",
    "Abstraction enhances code reusability and modularity in Python programs by promoting separation of concerns, encapsulation, and providing well-defined interfaces. Here's how abstraction achieves these goals:\n",
    "\n",
    "Separation of Concerns: Abstraction allows developers to separate different aspects of a program into distinct modules or components, each responsible for a specific task or functionality. By breaking down the codebase into smaller, more manageable units, developers can focus on implementing and maintaining individual components independently. This separation of concerns makes the codebase easier to understand, modify, and extend.\n",
    "\n",
    "Encapsulation: Abstraction encapsulates implementation details within modules or classes, hiding them from the rest of the program. This encapsulation prevents direct access to internal data and behavior, reducing the risk of unintended side effects and making it easier to maintain and modify the codebase over time. Encapsulation also promotes information hiding, allowing developers to change the implementation of a module without affecting other parts of the program.\n",
    "\n",
    "Well-Defined Interfaces: Abstraction provides well-defined interfaces that specify how different components of a program interact with each other. These interfaces define a contract between modules, specifying the methods or functions that can be used to communicate with a module and the expected behavior of those methods. By adhering to these interfaces, developers can ensure that modules can be easily reused in different contexts without requiring modifications to the calling code.\n",
    "\n",
    "Code Reusability: Abstraction promotes code reusability by enabling developers to reuse existing modules or components in multiple parts of a program or in different projects altogether. By abstracting away implementation details and providing clear interfaces, reusable components can be easily integrated into new systems without the need for significant modifications. This reduces duplication of code, saves development time, and improves overall code quality.\n",
    "\n",
    "Modularity: Abstraction encourages the development of modular, loosely coupled components that can be combined and configured to create complex systems. Each module can be developed, tested, and maintained independently, allowing for parallel development and easier collaboration among team members. Modular design also facilitates scalability and extensibility, as new modules can be added or existing ones modified without disrupting the entire system."
   ]
  },
  {
   "cell_type": "code",
   "execution_count": 5,
   "id": "7504b70b-5956-44a6-a354-a103c1d658be",
   "metadata": {},
   "outputs": [
    {
     "name": "stdout",
     "output_type": "stream",
     "text": [
      "Book 'Introduction to Python' added to the library 'Public Library'.\n",
      "Book 'Data Structures and Algorithms' added to the library 'Public Library'.\n",
      "Book 'Machine Learning Basics' added to the library 'Public Library'.\n",
      "Member 'M001' is not registered.\n",
      "Book 'Deep Learning Fundamentals' is not available in the library 'Public Library'.\n",
      "Member 'M001' is not registered.\n",
      "Book 'Deep Learning Fundamentals' is not available in the library 'Public Library'.\n"
     ]
    }
   ],
   "source": [
    "# 19. Create a Python class for a library system, implementing abstraction by defining common methods (e.g., `add_book()`, `borrow_book()`) in an abstract base class.\n",
    "\n",
    "\n",
    "from abc import ABC, abstractmethod\n",
    "\n",
    "class LibrarySystem(ABC):\n",
    "    def __init__(self, name):\n",
    "        self.name = name\n",
    "        self.books = []\n",
    "        self.members = {}\n",
    "    \n",
    "    @abstractmethod\n",
    "    def add_book(self, book):\n",
    "        pass\n",
    "    \n",
    "    @abstractmethod\n",
    "    def borrow_book(self, member_id, book_title):\n",
    "        pass\n",
    "    \n",
    "    @abstractmethod\n",
    "    def return_book(self, member_id, book_title):\n",
    "        pass\n",
    "\n",
    "class SimpleLibrarySystem(LibrarySystem):\n",
    "    def add_book(self, book):\n",
    "        self.books.append(book)\n",
    "        print(f\"Book '{book}' added to the library '{self.name}'.\")\n",
    "\n",
    "    def borrow_book(self, member_id, book_title):\n",
    "        if book_title in self.books:\n",
    "            if member_id in self.members:\n",
    "                print(f\"Member '{member_id}' borrowed the book '{book_title}'.\")\n",
    "            else:\n",
    "                print(f\"Member '{member_id}' is not registered.\")\n",
    "        else:\n",
    "            print(f\"Book '{book_title}' is not available in the library '{self.name}'.\")\n",
    "\n",
    "    def return_book(self, member_id, book_title):\n",
    "        if book_title in self.books:\n",
    "            if member_id in self.members:\n",
    "                print(f\"Member '{member_id}' returned the book '{book_title}'.\")\n",
    "            else:\n",
    "                print(f\"Member '{member_id}' is not registered.\")\n",
    "        else:\n",
    "            print(f\"Book '{book_title}' is not available in the library '{self.name}'.\")\n",
    "\n",
    "library = SimpleLibrarySystem(\"Public Library\")\n",
    "\n",
    "library.add_book(\"Introduction to Python\")\n",
    "library.add_book(\"Data Structures and Algorithms\")\n",
    "library.add_book(\"Machine Learning Basics\")\n",
    "\n",
    "library.borrow_book(\"M001\", \"Introduction to Python\")\n",
    "library.borrow_book(\"M002\", \"Deep Learning Fundamentals\")\n",
    "\n",
    "library.return_book(\"M001\", \"Introduction to Python\")\n",
    "library.return_book(\"M002\", \"Deep Learning Fundamentals\")\n"
   ]
  },
  {
   "cell_type": "raw",
   "id": "70ddce60-5adc-44b5-a34c-9ea47126f3cf",
   "metadata": {},
   "source": [
    "#20. Describe the concept of method abstraction in Python and how it relates to polymorphism.\n",
    "\n",
    "Method abstraction in Python focuses on defining method interfaces without specifying their implementations, enabling code reuse and promoting modularity. This concept is closely related to polymorphism, as it allows objects of different types to be treated uniformly based on a common interface. By leveraging method abstraction and polymorphism, Python programs can achieve greater flexibility, scalability, and maintainability."
   ]
  },
  {
   "cell_type": "code",
   "execution_count": null,
   "id": "1ccaf6c6-17c4-43d9-b808-5841c84263a4",
   "metadata": {},
   "outputs": [],
   "source": []
  },
  {
   "cell_type": "raw",
   "id": "23709580-4f59-44ea-a47a-85fc886b9e51",
   "metadata": {},
   "source": [
    "Composition:"
   ]
  },
  {
   "cell_type": "code",
   "execution_count": null,
   "id": "12fbaa1c-1e27-4dbc-b9f7-90ea5006d93e",
   "metadata": {},
   "outputs": [],
   "source": []
  },
  {
   "cell_type": "raw",
   "id": "6e04f387-3dfb-4b6e-abbd-b2faba299862",
   "metadata": {},
   "source": [
    "#1. Explain the concept of composition in Python and how it is used to build complex objects from simpler ones.\n",
    "\n",
    "Composition in Python refers to the practice of constructing complex objects by combining simpler objects. It involves creating classes that contain instances of other classes as attributes. This allows for the creation of more complex and specialized objects by reusing existing components.\n"
   ]
  },
  {
   "cell_type": "raw",
   "id": "f26d6073-cfcc-4a65-a58a-f0292dbeabc9",
   "metadata": {},
   "source": [
    "#2. Describe the difference between composition and inheritance in object-oriented programming.\n",
    "\n",
    "Composition and inheritance are both fundamental concepts in object-oriented programming, but they differ in their approach to structuring and organizing code.while both composition and inheritance facilitate code reuse and organization, they differ in their approach and the relationships they represent. Inheritance focuses on sharing and extending behavior through hierarchical relationships, while composition focuses on building complex objects by combining simpler components. Each has its advantages and use cases, and sometimes a combination of both is employed to achieve the desired design goals."
   ]
  },
  {
   "cell_type": "code",
   "execution_count": 2,
   "id": "cbe397e2-5db0-4199-a117-9acec57527f2",
   "metadata": {},
   "outputs": [
    {
     "name": "stdout",
     "output_type": "stream",
     "text": [
      "Title: Python Programming, Author: John Doe, Birthdate: 1990-05-15\n"
     ]
    }
   ],
   "source": [
    "#3. Create a Python class called `Author` with attributes for name and birthdate. Then, create a `Book` class that contains an instance of `Author` as a composition. Provide an example of creating a `Book` object.\n",
    "\n",
    "class Author:\n",
    "    def __init__(self, name, birthdate):\n",
    "        self.name = name\n",
    "        self.birthdate = birthdate\n",
    "    \n",
    "    def __str__(self):\n",
    "        return f\"Author: {self.name}, Birthdate: {self.birthdate}\"\n",
    "\n",
    "class Book:\n",
    "    def __init__(self, title, author_name, author_birthdate):\n",
    "        self.title = title\n",
    "        self.author = Author(author_name, author_birthdate) \n",
    "    \n",
    "    def __str__(self):\n",
    "        return f\"Title: {self.title}, {self.author}\"\n",
    "\n",
    "my_book = Book(\"Python Programming\", \"John Doe\", \"1990-05-15\")\n",
    "print(my_book)\n"
   ]
  },
  {
   "cell_type": "raw",
   "id": "4732b5bf-66a9-4bd7-a87f-a719d2632964",
   "metadata": {},
   "source": [
    "4. Discuss the benefits of using composition over inheritance in Python, especially in terms of code flexibility and reusability.\n",
    "\n",
    "composition offers a more flexible, modular, and maintainable approach to building object-oriented systems compared to inheritance. It encourages code reuse, promotes encapsulation, and provides granular control over object behavior, making it well-suited for designing complex, evolving systems.\n",
    "\n",
    "Flexibility:\n",
    "\n",
    "Composition allows for more flexible object structures compared to inheritance. With composition, you can build objects by combining different components, leading to a more modular and adaptable design.\n",
    "Objects can be composed of multiple components, and these components can be swapped or modified independently without affecting the overall structure of the objects.\n",
    "It promotes a looser coupling between classes, reducing the dependencies between different parts of the codebase and making it easier to refactor or extend the system.\n",
    "Code Reusability:\n",
    "\n",
    "Composition promotes code reuse by enabling the reuse of individual components in multiple classes.\n",
    "Components can be designed to be generic and reusable, leading to a library of reusable building blocks that can be combined in various ways to create different types of objects.\n",
    "This approach encourages a more modular codebase where components are developed and tested independently, making it easier to maintain and extend the code over time."
   ]
  },
  {
   "cell_type": "raw",
   "id": "bd4b19aa-d0cd-4385-896f-d53db3969d8b",
   "metadata": {},
   "source": [
    "5. How can you implement composition in Python classes? Provide examples of using composition to create complex objects.\n",
    "\n",
    "\n",
    "Composition in Python classes can be implemented by creating instances of other classes as attributes within a class. Here's how you can implement composition:\n",
    "\n",
    "- Define a class that you want to use as a component.\n",
    "- Create instances of that class as attributes within another class.\n",
    "- Use those instances to provide functionality or behavior to the containing class."
   ]
  },
  {
   "cell_type": "code",
   "execution_count": 4,
   "id": "e528a87d-d6d5-42ca-8d86-61ee2efd789a",
   "metadata": {},
   "outputs": [
    {
     "name": "stdout",
     "output_type": "stream",
     "text": [
      "Title: Python Programming, Author: John Doe, Birthdate: 1990-05-15\n"
     ]
    }
   ],
   "source": [
    "#Example- \n",
    "\n",
    "\n",
    "class Author:\n",
    "    def __init__(self, name, birthdate):\n",
    "        self.name = name\n",
    "        self.birthdate = birthdate\n",
    "    \n",
    "    def __str__(self):\n",
    "        return f\"Author: {self.name}, Birthdate: {self.birthdate}\"\n",
    "\n",
    "class Book:\n",
    "    def __init__(self, title, author_name, author_birthdate):\n",
    "        self.title = title\n",
    "        self.author = Author(author_name, author_birthdate) \n",
    "    \n",
    "    def __str__(self):\n",
    "        return f\"Title: {self.title}, {self.author}\"\n",
    "\n",
    "my_book = Book(\"Python Programming\", \"John Doe\", \"1990-05-15\")\n",
    "print(my_book)"
   ]
  },
  {
   "cell_type": "code",
   "execution_count": 5,
   "id": "46cd5988-4b61-4a0a-9c64-0166efddd67e",
   "metadata": {},
   "outputs": [
    {
     "name": "stdout",
     "output_type": "stream",
     "text": [
      "Playing all songs in playlist 'Classic Rock':\n",
      "Playing: Bohemian Rhapsody - Queen\n",
      "Playing: Hotel California - Eagles\n",
      "Playing: Stairway to Heaven - Led Zeppelin\n"
     ]
    }
   ],
   "source": [
    "#6. Create a Python class hierarchy for a music player system, using composition to represent playlists and songs.\n",
    "\n",
    "class Song:\n",
    "    def __init__(self, title, artist, duration):\n",
    "        self.title = title\n",
    "        self.artist = artist\n",
    "        self.duration = duration\n",
    "    \n",
    "    def play(self):\n",
    "        print(f\"Playing: {self.title} - {self.artist}\")\n",
    "\n",
    "class Playlist:\n",
    "    def __init__(self, name):\n",
    "        self.name = name\n",
    "        self.songs = []  # List to store songs\n",
    "    \n",
    "    def add_song(self, song):\n",
    "        self.songs.append(song)\n",
    "    \n",
    "    def remove_song(self, song):\n",
    "        if song in self.songs:\n",
    "            self.songs.remove(song)\n",
    "    \n",
    "    def play_all(self):\n",
    "        print(f\"Playing all songs in playlist '{self.name}':\")\n",
    "        for song in self.songs:\n",
    "            song.play()\n",
    "\n",
    "class MusicPlayer:\n",
    "    def __init__(self):\n",
    "        self.playlists = []  \n",
    "    \n",
    "    def create_playlist(self, name):\n",
    "        playlist = Playlist(name)\n",
    "        self.playlists.append(playlist)\n",
    "        return playlist\n",
    "    \n",
    "    def delete_playlist(self, playlist):\n",
    "        if playlist in self.playlists:\n",
    "            self.playlists.remove(playlist)\n",
    "\n",
    "player = MusicPlayer()\n",
    "\n",
    "song1 = Song(\"Bohemian Rhapsody\", \"Queen\", 354)\n",
    "song2 = Song(\"Hotel California\", \"Eagles\", 391)\n",
    "song3 = Song(\"Stairway to Heaven\", \"Led Zeppelin\", 482)\n",
    "\n",
    "playlist1 = player.create_playlist(\"Classic Rock\")\n",
    "playlist1.add_song(song1)\n",
    "playlist1.add_song(song2)\n",
    "playlist1.add_song(song3)\n",
    "\n",
    "playlist2 = player.create_playlist(\"Chill\")\n",
    "playlist2.add_song(song2)\n",
    "playlist2.add_song(song3)\n",
    "\n",
    "playlist1.play_all()\n",
    "\n",
    "player.delete_playlist(playlist2)\n"
   ]
  },
  {
   "cell_type": "raw",
   "id": "3cfdc95c-f8fd-4294-b84d-5c26f8885f30",
   "metadata": {},
   "source": [
    "#7. Explain the concept of \"has-a\" relationships in composition and how it helps design software systems.\n",
    "\n",
    "The concept of \"has-a\" relationships refers to the relationship between classes where one class contains an instance of another class as a part of its structure. This is a fundamental principle of composition, where objects are composed of other objects to build more complex structures.\"has-a\" relationships in composition enable a more modular, reusable, and flexible design approach in software systems. By composing objects from simpler components, it promotes encapsulation, code reuse, flexibility, and adaptability, leading to well-structured and maintainable codebases.\n"
   ]
  },
  {
   "cell_type": "code",
   "execution_count": 6,
   "id": "570d479b-be01-43f7-ad55-7747ba997174",
   "metadata": {},
   "outputs": [
    {
     "name": "stdout",
     "output_type": "stream",
     "text": [
      "Computer Specs:\n",
      "CPU: Intel, Cores: 8\n",
      "RAM: 16GB, Speed: 3200MHz\n",
      "Storage: 512GB, Type: SSD\n"
     ]
    }
   ],
   "source": [
    "#8. Create a Python class for a computer system, using composition to represent components like CPU, RAM, and storage devices\n",
    "\n",
    "class CPU:\n",
    "    def __init__(self, brand, cores):\n",
    "        self.brand = brand\n",
    "        self.cores = cores\n",
    "    \n",
    "    def info(self):\n",
    "        return f\"CPU: {self.brand}, Cores: {self.cores}\"\n",
    "\n",
    "class RAM:\n",
    "    def __init__(self, capacity_gb, speed_mhz):\n",
    "        self.capacity_gb = capacity_gb\n",
    "        self.speed_mhz = speed_mhz\n",
    "    \n",
    "    def info(self):\n",
    "        return f\"RAM: {self.capacity_gb}GB, Speed: {self.speed_mhz}MHz\"\n",
    "\n",
    "class Storage:\n",
    "    def __init__(self, capacity_gb, type):\n",
    "        self.capacity_gb = capacity_gb\n",
    "        self.type = type\n",
    "    \n",
    "    def info(self):\n",
    "        return f\"Storage: {self.capacity_gb}GB, Type: {self.type}\"\n",
    "\n",
    "class Computer:\n",
    "    def __init__(self, cpu_brand, cpu_cores, ram_capacity_gb, ram_speed_mhz, storage_capacity_gb, storage_type):\n",
    "        self.cpu = CPU(cpu_brand, cpu_cores)          \n",
    "        self.ram = RAM(ram_capacity_gb, ram_speed_mhz)  \n",
    "        self.storage = Storage(storage_capacity_gb, storage_type)  \n",
    "    \n",
    "    def specs(self):\n",
    "        return f\"Computer Specs:\\n{self.cpu.info()}\\n{self.ram.info()}\\n{self.storage.info()}\"\n",
    "\n",
    "my_computer = Computer(\"Intel\", 8, 16, 3200, 512, \"SSD\")\n",
    "print(my_computer.specs())\n"
   ]
  },
  {
   "cell_type": "raw",
   "id": "ef552015-f2bc-4936-ae07-76309c612617",
   "metadata": {},
   "source": [
    "#9. Describe the concept of \"delegation\" in composition and how it simplifies the design of complex systems.\n",
    "\n",
    "Delegation in composition refers to the practice of allowing one object to handle a request or perform a task on behalf of another object. Instead of directly implementing the functionality within the containing object, it delegates the responsibility to another object. This concept simplifies the design of complex systems by promoting modularity, encapsulation, and code reuse.Overall, delegation in composition simplifies the design of complex systems by promoting modularity, encapsulation, code reuse, flexibility, adaptability, and granular control. By delegating responsibilities to specialized objects, it helps in creating cleaner, more maintainable, and extensible codebases."
   ]
  },
  {
   "cell_type": "code",
   "execution_count": 9,
   "id": "a012b35a-09b7-4f0e-8649-152efcb027fb",
   "metadata": {},
   "outputs": [
    {
     "name": "stdout",
     "output_type": "stream",
     "text": [
      "Car Specs:\n",
      "Engin: EON, Power: 2000\n",
      "Wheels: 4, Size: 10\n",
      "type_of: oil\n"
     ]
    }
   ],
   "source": [
    "#10. Create a Python class for a car, using composition to represent components like the engine, wheels, and transmission.\n",
    "\n",
    "class Engin:\n",
    "    \n",
    "    def __init__(self, brand, power):\n",
    "        self.brand = brand\n",
    "        self.power = power\n",
    "    \n",
    "    def info(self):\n",
    "        return f\"Engin: {self.brand}, Power: {self.power}\"\n",
    "\n",
    "class Wheels:\n",
    "    \n",
    "    def __init__(self, company, size):\n",
    "        self.company = company\n",
    "        self.size = size\n",
    "    \n",
    "    def info(self):\n",
    "        return f\"Wheels: {self.company}, Size: {self.size}\"\n",
    "\n",
    "    \n",
    "class Transmission:\n",
    "    \n",
    "    def __init__(self, type_of):\n",
    "        self.type_of = type_of\n",
    "    \n",
    "    def info(self):\n",
    "        return f\"type_of: {self.type_of}\"\n",
    "\n",
    "\n",
    "class Car:\n",
    "    def __init__(self, engin_brand, engin_power,wheels_company, wheels_size, transimmsion_type_of):\n",
    "        self.engin = Engin(engin_brand, engin_power)          \n",
    "        self.wheels = Wheels(wheels_company, wheels_size)  \n",
    "        self.transmission = Transmission(transimmsion_type_of)  \n",
    "    def specs(self):\n",
    "        return f\"Car Specs:\\n{self.engin.info()}\\n{self.wheels.info()}\\n{self.transmission.info()}\"\n",
    "\n",
    "my_car = Car(\"EON\", 2000, 4, 10,\"oil\")\n",
    "print(my_car.specs())\n"
   ]
  },
  {
   "cell_type": "raw",
   "id": "08162d7c-de58-42c7-95c9-09e551b3f733",
   "metadata": {},
   "source": [
    "11. How can you encapsulate and hide the details of composed objects in Python classes to maintain abstraction?\n",
    "\n",
    "Encapsulation and hiding the details of composed objects in Python classes can be achieved through several techniques. scuh as Private Attributes and Methods, Facade Design Pattern,Access Control:\n",
    "\n"
   ]
  },
  {
   "cell_type": "code",
   "execution_count": 14,
   "id": "2566570b-3a06-4bb0-8ff7-41760279d26a",
   "metadata": {},
   "outputs": [
    {
     "name": "stdout",
     "output_type": "stream",
     "text": [
      "Detials:\n",
      "Student name: rishi, Grade: 12, Roll_no : 101\n",
      "Instructor name : sathya, Subject:python\n",
      "course name : CSE\n"
     ]
    }
   ],
   "source": [
    "#12. Create a Python class for a university course, using composition to represent students, instructors, and course materials\n",
    "\n",
    "class Student:\n",
    "    def __init__(self,name, grade,  roll_no):\n",
    "        self.name = name\n",
    "        self.grade = grade\n",
    "        self.roll_no = roll_no\n",
    "    def info(self):\n",
    "        return f\"Student name: {self.name}, Grade: {self.grade}, Roll_no : {self.roll_no}\"\n",
    "        \n",
    "class  Instructor:\n",
    "    def __init__(self,name, subject):\n",
    "        self.name = name\n",
    "        self.subject = subject \n",
    "    \n",
    "    def info(self):\n",
    "        return f\"Instructor name : {self.name}, Subject:{self.subject}\"\n",
    "\n",
    "class Course:\n",
    "    def __init__(self, course_name):\n",
    "        self.course_name = course_name\n",
    "\n",
    "    def info(self):\n",
    "        return f\"course name : {self.course_name}\"\n",
    "\n",
    "class university_course:\n",
    "    def __init__(self, stu_name, stu_grade, stu_roll_no, ins_name, ins_subject, course_name):\n",
    "        self.student = Student(stu_name, stu_grade, stu_roll_no)\n",
    "        self.instructor = Instructor(ins_name, ins_subject) \n",
    "        self.course = Course(course_name)\n",
    "    def info(self):\n",
    "        return f\"Detials:\\n{self.student.info()}\\n{self.instructor.info()}\\n{self.course.info()}\"\n",
    "\n",
    "my_detials = university_course('rishi',12,101,'sathya','python','CSE')\n",
    "print(my_detials.info())"
   ]
  },
  {
   "cell_type": "raw",
   "id": "8601845c-d19a-41e4-8aae-d1456dd95acc",
   "metadata": {},
   "source": [
    "#13. Discuss the challenges and drawbacks of composition, such as increased complexity and potential for tight coupling between objects.\n",
    "\n",
    "Increased Complexity:\n",
    "\n",
    "Composition can lead to increased complexity, especially in systems with multiple layers of composition.\n",
    "Managing relationships between objects and ensuring proper interaction among components can become challenging as the system grows.\n",
    "Potential for Tight Coupling:\n",
    "\n",
    "Composition can lead to tight coupling between objects if not implemented carefully.\n",
    "Objects may become dependent on each other's internal details, making the system less flexible and more difficult to maintain."
   ]
  },
  {
   "cell_type": "code",
   "execution_count": 18,
   "id": "6bdf3863-a7df-4eb1-bef6-bd17ec9d2e40",
   "metadata": {},
   "outputs": [
    {
     "name": "stdout",
     "output_type": "stream",
     "text": [
      "Cuisine Central Restaurant\n",
      "Lunch Menu Menu:\n",
      "Margherita Pizza - $12.99\n",
      "Ingredients: 2 Tomato, 1 Cheese, 1 Dough\n",
      "Cheeseburger - $9.99\n",
      "Ingredients: 1 Beef Patty, 1 Lettuce, 1 Bun\n"
     ]
    }
   ],
   "source": [
    "#14. Create a Python class hierarchy for a restaurant system, using composition to represent menus, dishes, and ingredients.\n",
    "\n",
    "class Ingredient:\n",
    "    def __init__(self, name, quantity):\n",
    "        self.name = name\n",
    "        self.quantity = quantity\n",
    "    \n",
    "    def __str__(self):\n",
    "        return f\"{self.quantity} {self.name}\"\n",
    "\n",
    "class Dish:\n",
    "    def __init__(self, name, price, ingredients):\n",
    "        self.name = name\n",
    "        self.price = price\n",
    "        self.ingredients = ingredients\n",
    "    \n",
    "    def __str__(self):\n",
    "        return f\"{self.name} - ${self.price}\\nIngredients: {', '.join(str(ingredient) for ingredient in self.ingredients)}\"\n",
    "\n",
    "class Menu:\n",
    "    def __init__(self, name, dishes):\n",
    "        self.name = name\n",
    "        self.dishes = dishes\n",
    "    \n",
    "    def __str__(self):\n",
    "        return f\"{self.name} Menu:\\n\" + '\\n'.join(str(dish) for dish in self.dishes)\n",
    "\n",
    "class Restaurant:\n",
    "    def __init__(self, name, menus):\n",
    "        self.name = name\n",
    "        self.menus = menus\n",
    "    \n",
    "    def __str__(self):\n",
    "        return f\"{self.name} Restaurant\\n\" + '\\n'.join(str(menu) for menu in self.menus)\n",
    "\n",
    "ingredient1 = Ingredient(\"Tomato\", 2)\n",
    "ingredient2 = Ingredient(\"Cheese\", 1)\n",
    "ingredient3 = Ingredient(\"Dough\", 1)\n",
    "ingredient4 = Ingredient(\"Beef Patty\", 1)\n",
    "ingredient5 = Ingredient(\"Lettuce\", 1)\n",
    "ingredient6 = Ingredient(\"Bun\", 1)\n",
    "\n",
    "dish1 = Dish(\"Margherita Pizza\", 12.99, [ingredient1, ingredient2, ingredient3])\n",
    "dish2 = Dish(\"Cheeseburger\", 9.99, [ingredient4, ingredient5, ingredient6])\n",
    "\n",
    "menu1 = Menu(\"Lunch Menu\", [dish1, dish2])\n",
    "\n",
    "restaurant = Restaurant(\"Cuisine Central\", [menu1])\n",
    "print(restaurant)\n"
   ]
  },
  {
   "cell_type": "raw",
   "id": "0bac7744-ce7b-4410-a310-67c533d5fa9a",
   "metadata": {},
   "source": [
    "#15. Explain how composition enhances code maintainability and modularity in Python programs.\n",
    "\n",
    "Composition enhances code maintainability and modularity in Python programs by promoting encapsulation, modularity, code reusability, flexibility, granular control, and reduced coupling. It allows for the creation of cleaner, more maintainable, and extensible codebases by breaking down complex systems into smaller, more manageable components."
   ]
  },
  {
   "cell_type": "code",
   "execution_count": 23,
   "id": "855f3ad6-56c1-40e7-9549-2d3cf8e3fba5",
   "metadata": {},
   "outputs": [
    {
     "name": "stdout",
     "output_type": "stream",
     "text": [
      "Player\n",
      "Weapon: Sword, Damage: 10\n",
      "Armor: Shield, Defense: 5\n",
      "Inventory:\n",
      "Weapon: Bow, Damage: 8\n",
      "Armor: Helmet, Defense: 3\n"
     ]
    }
   ],
   "source": [
    "#16. Create a Python class for a computer game character, using composition to represent attributes like weapons, armor, and inventory.\n",
    "\n",
    "class Weapon:\n",
    "    def __init__(self, name, damage):\n",
    "        self.name = name\n",
    "        self.damage = damage\n",
    "    \n",
    "    def __str__(self):\n",
    "        return f\"Weapon: {self.name}, Damage: {self.damage}\"\n",
    "\n",
    "class Armor:\n",
    "    def __init__(self, name, defense):\n",
    "        self.name = name\n",
    "        self.defense = defense\n",
    "    \n",
    "    def __str__(self):\n",
    "        return f\"Armor: {self.name}, Defense: {self.defense}\"\n",
    "\n",
    "class Inventory:\n",
    "    def __init__(self, items=None):\n",
    "        self.items = items if items is not None else []\n",
    "    \n",
    "    def add_item(self, item):\n",
    "        self.items.append(item)\n",
    "    \n",
    "    def remove_item(self, item):\n",
    "        if item in self.items:\n",
    "            self.items.remove(item)\n",
    "    \n",
    "    def __str__(self):\n",
    "        return \"Inventory:\\n\" + '\\n'.join(str(item) for item in self.items)\n",
    "\n",
    "class Character:\n",
    "    def __init__(self, name, weapon=None, armor=None, inventory=None):\n",
    "        self.name = name\n",
    "        self.weapon = weapon\n",
    "        self.armor = armor\n",
    "        self.inventory = inventory if inventory is not None else Inventory()\n",
    "    \n",
    "    def __str__(self):\n",
    "        return f\"{self.name}\\n{self.weapon}\\n{self.armor}\\n{self.inventory}\"\n",
    "\n",
    "sword = Weapon(\"Sword\", 10)\n",
    "shield = Armor(\"Shield\", 5)\n",
    "inventory = Inventory([Weapon(\"Bow\", 8), Armor(\"Helmet\", 3)])\n",
    "\n",
    "player = Character(\"Player\", sword, shield, inventory)\n",
    "print(player)\n"
   ]
  },
  {
   "cell_type": "raw",
   "id": "8eaa9d13-38d3-4ec8-8328-bdb519c4a5de",
   "metadata": {},
   "source": [
    "#17. Describe the concept of \"aggregation\" in composition and how it differs from simple composition.\n",
    "\n",
    "Aggregation in composition refers to a relationship where one object contains references to other objects, but the contained objects can exist independently of the container. This differs from simple composition where the contained objects are exclusively owned by the container and tightly coupled to it. Aggregation allows for more flexible relationships between objects and enables the reuse and sharing of components among multiple containers."
   ]
  },
  {
   "cell_type": "code",
   "execution_count": 25,
   "id": "19c1ea5a-8ca2-4ae0-b3f2-4a4e8e65db68",
   "metadata": {},
   "outputs": [
    {
     "name": "stdout",
     "output_type": "stream",
     "text": [
      "My House\n",
      "Bedroom:\n",
      "Furniture: Bed, Wardrobe\n",
      "Appliances: Lamp\n",
      "Kitchen:\n",
      "Furniture: Table\n",
      "Appliances: Microwave, Stove\n"
     ]
    }
   ],
   "source": [
    "#18. Create a Python class for a house, using composition to represent rooms, furniture, and appliances.\n",
    "\n",
    "\n",
    "class Furniture:\n",
    "    def __init__(self, name):\n",
    "        self.name = name\n",
    "    \n",
    "    def __str__(self):\n",
    "        return f\"{self.name}\"\n",
    "\n",
    "class Appliance:\n",
    "    def __init__(self, name):\n",
    "        self.name = name\n",
    "    \n",
    "    def __str__(self):\n",
    "        return f\"{self.name}\"\n",
    "\n",
    "class Room:\n",
    "    def __init__(self, name):\n",
    "        self.name = name\n",
    "        self.furniture = []\n",
    "        self.appliances = []\n",
    "    \n",
    "    def add_furniture(self, furniture):\n",
    "        self.furniture.append(furniture)\n",
    "    \n",
    "    def add_appliance(self, appliance):\n",
    "        self.appliances.append(appliance)\n",
    "    \n",
    "    def __str__(self):\n",
    "        furniture_str = \", \".join(str(item) for item in self.furniture)\n",
    "        appliance_str = \", \".join(str(item) for item in self.appliances)\n",
    "        return f\"{self.name}:\\nFurniture: {furniture_str}\\nAppliances: {appliance_str}\"\n",
    "\n",
    "class House:\n",
    "    def __init__(self, name):\n",
    "        self.name = name\n",
    "        self.rooms = []\n",
    "    \n",
    "    def add_room(self, room):\n",
    "        self.rooms.append(room)\n",
    "    \n",
    "    def __str__(self):\n",
    "        return f\"{self.name} House\\n\" + '\\n'.join(str(room) for room in self.rooms)\n",
    "\n",
    "bedroom = Room(\"Bedroom\")\n",
    "bedroom.add_furniture(Furniture(\"Bed\"))\n",
    "bedroom.add_furniture(Furniture(\"Wardrobe\"))\n",
    "bedroom.add_appliance(Appliance(\"Lamp\"))\n",
    "\n",
    "kitchen = Room(\"Kitchen\")\n",
    "kitchen.add_furniture(Furniture(\"Table\"))\n",
    "kitchen.add_appliance(Appliance(\"Microwave\"))\n",
    "kitchen.add_appliance(Appliance(\"Stove\"))\n",
    "\n",
    "my_house = House(\"My\")\n",
    "my_house.add_room(bedroom)\n",
    "my_house.add_room(kitchen)\n",
    "\n",
    "print(my_house)\n"
   ]
  },
  {
   "cell_type": "raw",
   "id": "82278c95-c7ae-457c-86d2-26d9e986aace",
   "metadata": {},
   "source": [
    "#19. How can you achieve flexibility in composed objects by allowing them to be replaced or modified dynamically at runtime?\n",
    "\n",
    "We can achieve flexibility in composed objects by allowing them to be replaced or modified dynamically at runtime through:\n",
    "\n",
    "Interfaces or abstract base classes for decoupling.\n",
    "Dependency injection for swapping implementations.\n",
    "Factory methods or builder patterns for dynamic creation.\n",
    "Strategy pattern for encapsulating behaviors.\n",
    "Configuration files or DI containers for externalizing configurations.\n",
    "Dynamic typing and duck typing for runtime replacements.\n"
   ]
  },
  {
   "cell_type": "code",
   "execution_count": 30,
   "id": "099084f0-7bb7-427d-9773-834795eb2be3",
   "metadata": {},
   "outputs": [
    {
     "name": "stdout",
     "output_type": "stream",
     "text": [
      "Post by User: Alice: Hello, world!\n",
      "Comments:\n",
      "Comment by User: Bob: Nice post!\n",
      "\n",
      "Post by User: Alice: This is my second post.\n",
      "No comments yet.\n",
      "\n"
     ]
    }
   ],
   "source": [
    "#20. Create a Python class for a social media application, using composition to represent users, posts, and comments.\n",
    "\n",
    "class Comment:\n",
    "    def __init__(self, text, user):\n",
    "        self.text = text\n",
    "        self.user = user\n",
    "    \n",
    "    def __str__(self):\n",
    "        return f\"Comment by {self.user}: {self.text}\"\n",
    "\n",
    "class Post:\n",
    "    def __init__(self, text, user):\n",
    "        self.text = text\n",
    "        self.user = user\n",
    "        self.comments = []\n",
    "    \n",
    "    def add_comment(self, comment):\n",
    "        self.comments.append(comment)\n",
    "    \n",
    "    def __str__(self):\n",
    "        post_info = f\"Post by {self.user}: {self.text}\"\n",
    "        if self.comments:\n",
    "            comments_info = \"\\nComments:\\n\" + '\\n'.join(str(comment) for comment in self.comments)\n",
    "            return post_info + comments_info\n",
    "        else:\n",
    "            return post_info + \"\\nNo comments yet.\"\n",
    "\n",
    "class User:\n",
    "    def __init__(self, name):\n",
    "        self.name = name\n",
    "        self.posts = []\n",
    "    \n",
    "    def create_post(self, text):\n",
    "        post = Post(text, self)\n",
    "        self.posts.append(post)\n",
    "        return post\n",
    "    \n",
    "    def __str__(self):\n",
    "        return f\"User: {self.name}\"\n",
    "\n",
    "class SocialMediaApp:\n",
    "    def __init__(self):\n",
    "        self.users = []\n",
    "    \n",
    "    def add_user(self, user):\n",
    "        self.users.append(user)\n",
    "    \n",
    "    def print_posts_with_comments(self):\n",
    "        for user in self.users:\n",
    "            for post in user.posts:\n",
    "                print(post)\n",
    "                print()\n",
    "\n",
    "    def __str__(self):\n",
    "        return \"\\n\".join(str(user) for user in self.users)\n",
    "\n",
    "\n",
    "user1 = User(\"Alice\")\n",
    "user2 = User(\"Bob\")\n",
    "\n",
    "app = SocialMediaApp()\n",
    "app.add_user(user1)\n",
    "app.add_user(user2)\n",
    "\n",
    "post1 = user1.create_post(\"Hello, world!\")\n",
    "\n",
    "comment1 = Comment(\"Nice post!\", user2)\n",
    "post1.add_comment(comment1)\n",
    "\n",
    "post2 = user1.create_post(\"This is my second post.\")\n",
    "\n",
    "app.print_posts_with_comments()\n"
   ]
  },
  {
   "cell_type": "code",
   "execution_count": null,
   "id": "ff2948d6-f1e4-4340-b80f-f54fd09e2ea1",
   "metadata": {},
   "outputs": [],
   "source": []
  }
 ],
 "metadata": {
  "kernelspec": {
   "display_name": "Python 3 (ipykernel)",
   "language": "python",
   "name": "python3"
  },
  "language_info": {
   "codemirror_mode": {
    "name": "ipython",
    "version": 3
   },
   "file_extension": ".py",
   "mimetype": "text/x-python",
   "name": "python",
   "nbconvert_exporter": "python",
   "pygments_lexer": "ipython3",
   "version": "3.10.8"
  }
 },
 "nbformat": 4,
 "nbformat_minor": 5
}
